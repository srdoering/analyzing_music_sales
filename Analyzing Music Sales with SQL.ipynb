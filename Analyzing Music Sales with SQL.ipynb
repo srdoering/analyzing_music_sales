{
 "cells": [
  {
   "cell_type": "markdown",
   "metadata": {},
   "source": [
    "# Analyzing Music Sales\n",
    "\n",
    "In this project we will use the fictional Itunes-like musical sales database \"Chinook\" to practice SQL queries related mainly to user preferences. The main focus of the second half of the project will be a detailed analysis of whether individual songs or whole albums should be sold."
   ]
  },
  {
   "cell_type": "code",
   "execution_count": 1,
   "metadata": {},
   "outputs": [
    {
     "data": {
      "text/plain": [
       "'Connected: @chinook.db'"
      ]
     },
     "execution_count": 1,
     "metadata": {},
     "output_type": "execute_result"
    }
   ],
   "source": [
    "#Importing database\n",
    "import sqlalchemy\n",
    "sqlalchemy.create_engine('sqlite:///factbook.db')\n",
    "%load_ext sql\n",
    "%sql sqlite:///chinook.db"
   ]
  },
  {
   "cell_type": "code",
   "execution_count": 46,
   "metadata": {},
   "outputs": [
    {
     "name": "stdout",
     "output_type": "stream",
     "text": [
      " * sqlite:///chinook.db\n",
      "Done.\n"
     ]
    },
    {
     "data": {
      "text/html": [
       "<table>\n",
       "    <thead>\n",
       "        <tr>\n",
       "            <th>name</th>\n",
       "            <th>type</th>\n",
       "        </tr>\n",
       "    </thead>\n",
       "    <tbody>\n",
       "        <tr>\n",
       "            <td>album</td>\n",
       "            <td>table</td>\n",
       "        </tr>\n",
       "        <tr>\n",
       "            <td>artist</td>\n",
       "            <td>table</td>\n",
       "        </tr>\n",
       "        <tr>\n",
       "            <td>customer</td>\n",
       "            <td>table</td>\n",
       "        </tr>\n",
       "        <tr>\n",
       "            <td>employee</td>\n",
       "            <td>table</td>\n",
       "        </tr>\n",
       "        <tr>\n",
       "            <td>genre</td>\n",
       "            <td>table</td>\n",
       "        </tr>\n",
       "        <tr>\n",
       "            <td>invoice</td>\n",
       "            <td>table</td>\n",
       "        </tr>\n",
       "        <tr>\n",
       "            <td>invoice_line</td>\n",
       "            <td>table</td>\n",
       "        </tr>\n",
       "        <tr>\n",
       "            <td>media_type</td>\n",
       "            <td>table</td>\n",
       "        </tr>\n",
       "        <tr>\n",
       "            <td>playlist</td>\n",
       "            <td>table</td>\n",
       "        </tr>\n",
       "        <tr>\n",
       "            <td>playlist_track</td>\n",
       "            <td>table</td>\n",
       "        </tr>\n",
       "        <tr>\n",
       "            <td>track</td>\n",
       "            <td>table</td>\n",
       "        </tr>\n",
       "    </tbody>\n",
       "</table>"
      ],
      "text/plain": [
       "[('album', 'table'),\n",
       " ('artist', 'table'),\n",
       " ('customer', 'table'),\n",
       " ('employee', 'table'),\n",
       " ('genre', 'table'),\n",
       " ('invoice', 'table'),\n",
       " ('invoice_line', 'table'),\n",
       " ('media_type', 'table'),\n",
       " ('playlist', 'table'),\n",
       " ('playlist_track', 'table'),\n",
       " ('track', 'table')]"
      ]
     },
     "execution_count": 46,
     "metadata": {},
     "output_type": "execute_result"
    }
   ],
   "source": [
    "%%sql\n",
    "SELECT name, type\n",
    "FROM sqlite_master\n",
    "WHERE type in ('table')"
   ]
  },
  {
   "cell_type": "markdown",
   "metadata": {},
   "source": [
    "The database contains information on all songs sold in our fictional music store and all transactions completed by customers.\n",
    "\n",
    "\n",
    "# Task 1: Genre recommendations for USA\n",
    "\n",
    "Our company is considering adding two of the four artists to their US store and wants to know: which of hip-hop, punk, pop, or blues will sell the best in the US?\n",
    "\n",
    "To have a more comprehensive picture of user tastes, we'll rank the genres by their popularity in the US. Then we'll see where these 4 fit in those rankings.\n",
    "\n",
    "Let's start by looking at some of the available genres."
   ]
  },
  {
   "cell_type": "code",
   "execution_count": 3,
   "metadata": {},
   "outputs": [
    {
     "name": "stdout",
     "output_type": "stream",
     "text": [
      " * sqlite:///chinook.db\n",
      "Done.\n"
     ]
    },
    {
     "data": {
      "text/html": [
       "<table>\n",
       "    <thead>\n",
       "        <tr>\n",
       "            <th>genre_id</th>\n",
       "            <th>name</th>\n",
       "        </tr>\n",
       "    </thead>\n",
       "    <tbody>\n",
       "        <tr>\n",
       "            <td>1</td>\n",
       "            <td>Rock</td>\n",
       "        </tr>\n",
       "        <tr>\n",
       "            <td>2</td>\n",
       "            <td>Jazz</td>\n",
       "        </tr>\n",
       "        <tr>\n",
       "            <td>3</td>\n",
       "            <td>Metal</td>\n",
       "        </tr>\n",
       "        <tr>\n",
       "            <td>4</td>\n",
       "            <td>Alternative &amp; Punk</td>\n",
       "        </tr>\n",
       "        <tr>\n",
       "            <td>5</td>\n",
       "            <td>Rock And Roll</td>\n",
       "        </tr>\n",
       "        <tr>\n",
       "            <td>6</td>\n",
       "            <td>Blues</td>\n",
       "        </tr>\n",
       "        <tr>\n",
       "            <td>7</td>\n",
       "            <td>Latin</td>\n",
       "        </tr>\n",
       "        <tr>\n",
       "            <td>8</td>\n",
       "            <td>Reggae</td>\n",
       "        </tr>\n",
       "        <tr>\n",
       "            <td>9</td>\n",
       "            <td>Pop</td>\n",
       "        </tr>\n",
       "        <tr>\n",
       "            <td>10</td>\n",
       "            <td>Soundtrack</td>\n",
       "        </tr>\n",
       "    </tbody>\n",
       "</table>"
      ],
      "text/plain": [
       "[(1, 'Rock'),\n",
       " (2, 'Jazz'),\n",
       " (3, 'Metal'),\n",
       " (4, 'Alternative & Punk'),\n",
       " (5, 'Rock And Roll'),\n",
       " (6, 'Blues'),\n",
       " (7, 'Latin'),\n",
       " (8, 'Reggae'),\n",
       " (9, 'Pop'),\n",
       " (10, 'Soundtrack')]"
      ]
     },
     "execution_count": 3,
     "metadata": {},
     "output_type": "execute_result"
    }
   ],
   "source": [
    "%%sql\n",
    "SELECT *\n",
    "FROM genre\n",
    "LIMIT 10"
   ]
  },
  {
   "cell_type": "code",
   "execution_count": 4,
   "metadata": {},
   "outputs": [
    {
     "name": "stdout",
     "output_type": "stream",
     "text": [
      " * sqlite:///chinook.db\n",
      "Done.\n"
     ]
    },
    {
     "data": {
      "text/html": [
       "<table>\n",
       "    <thead>\n",
       "        <tr>\n",
       "            <th>COUNT(*)</th>\n",
       "        </tr>\n",
       "    </thead>\n",
       "    <tbody>\n",
       "        <tr>\n",
       "            <td>25</td>\n",
       "        </tr>\n",
       "    </tbody>\n",
       "</table>"
      ],
      "text/plain": [
       "[(25,)]"
      ]
     },
     "execution_count": 4,
     "metadata": {},
     "output_type": "execute_result"
    }
   ],
   "source": [
    "%%sql\n",
    "SELECT COUNT(*)\n",
    "FROM genre"
   ]
  },
  {
   "cell_type": "markdown",
   "metadata": {},
   "source": [
    "So there are 25 genres. \n",
    "\n",
    "Next we need to decide how to measure popularity. Since are greedy capitalists, we could look at total revenue or \n",
    "total number of songs sold. In this scenario, as each song is the same price, these are equivalent, so we will focus on revenue.\n",
    "\n",
    "Below, we generate a table ranking genres by their total revenue and percent of total revenue."
   ]
  },
  {
   "cell_type": "code",
   "execution_count": 5,
   "metadata": {},
   "outputs": [
    {
     "name": "stdout",
     "output_type": "stream",
     "text": [
      " * sqlite:///chinook.db\n",
      "Done.\n"
     ]
    },
    {
     "data": {
      "text/html": [
       "<table>\n",
       "    <thead>\n",
       "        <tr>\n",
       "            <th>genre_name</th>\n",
       "            <th>total_US_revenue</th>\n",
       "            <th>percent_US_revenue</th>\n",
       "        </tr>\n",
       "    </thead>\n",
       "    <tbody>\n",
       "        <tr>\n",
       "            <td>Rock</td>\n",
       "            <td>555.39</td>\n",
       "            <td>0.53</td>\n",
       "        </tr>\n",
       "        <tr>\n",
       "            <td>Alternative &amp; Punk</td>\n",
       "            <td>128.7</td>\n",
       "            <td>0.12</td>\n",
       "        </tr>\n",
       "        <tr>\n",
       "            <td>Metal</td>\n",
       "            <td>122.76</td>\n",
       "            <td>0.12</td>\n",
       "        </tr>\n",
       "        <tr>\n",
       "            <td>R&amp;B/Soul</td>\n",
       "            <td>52.47</td>\n",
       "            <td>0.05</td>\n",
       "        </tr>\n",
       "        <tr>\n",
       "            <td>Blues</td>\n",
       "            <td>35.64</td>\n",
       "            <td>0.03</td>\n",
       "        </tr>\n",
       "        <tr>\n",
       "            <td>Alternative</td>\n",
       "            <td>34.65</td>\n",
       "            <td>0.03</td>\n",
       "        </tr>\n",
       "        <tr>\n",
       "            <td>Pop</td>\n",
       "            <td>21.78</td>\n",
       "            <td>0.02</td>\n",
       "        </tr>\n",
       "        <tr>\n",
       "            <td>Latin</td>\n",
       "            <td>21.78</td>\n",
       "            <td>0.02</td>\n",
       "        </tr>\n",
       "        <tr>\n",
       "            <td>Hip Hop/Rap</td>\n",
       "            <td>19.8</td>\n",
       "            <td>0.02</td>\n",
       "        </tr>\n",
       "        <tr>\n",
       "            <td>Jazz</td>\n",
       "            <td>13.86</td>\n",
       "            <td>0.01</td>\n",
       "        </tr>\n",
       "        <tr>\n",
       "            <td>Easy Listening</td>\n",
       "            <td>12.87</td>\n",
       "            <td>0.01</td>\n",
       "        </tr>\n",
       "        <tr>\n",
       "            <td>Reggae</td>\n",
       "            <td>5.94</td>\n",
       "            <td>0.01</td>\n",
       "        </tr>\n",
       "        <tr>\n",
       "            <td>Electronica/Dance</td>\n",
       "            <td>4.95</td>\n",
       "            <td>0.0</td>\n",
       "        </tr>\n",
       "        <tr>\n",
       "            <td>Classical</td>\n",
       "            <td>3.96</td>\n",
       "            <td>0.0</td>\n",
       "        </tr>\n",
       "        <tr>\n",
       "            <td>Heavy Metal</td>\n",
       "            <td>2.97</td>\n",
       "            <td>0.0</td>\n",
       "        </tr>\n",
       "        <tr>\n",
       "            <td>Soundtrack</td>\n",
       "            <td>1.98</td>\n",
       "            <td>0.0</td>\n",
       "        </tr>\n",
       "        <tr>\n",
       "            <td>TV Shows</td>\n",
       "            <td>0.99</td>\n",
       "            <td>0.0</td>\n",
       "        </tr>\n",
       "    </tbody>\n",
       "</table>"
      ],
      "text/plain": [
       "[('Rock', 555.39, 0.53),\n",
       " ('Alternative & Punk', 128.7, 0.12),\n",
       " ('Metal', 122.76, 0.12),\n",
       " ('R&B/Soul', 52.47, 0.05),\n",
       " ('Blues', 35.64, 0.03),\n",
       " ('Alternative', 34.65, 0.03),\n",
       " ('Pop', 21.78, 0.02),\n",
       " ('Latin', 21.78, 0.02),\n",
       " ('Hip Hop/Rap', 19.8, 0.02),\n",
       " ('Jazz', 13.86, 0.01),\n",
       " ('Easy Listening', 12.87, 0.01),\n",
       " ('Reggae', 5.94, 0.01),\n",
       " ('Electronica/Dance', 4.95, 0.0),\n",
       " ('Classical', 3.96, 0.0),\n",
       " ('Heavy Metal', 2.97, 0.0),\n",
       " ('Soundtrack', 1.98, 0.0),\n",
       " ('TV Shows', 0.99, 0.0)]"
      ]
     },
     "execution_count": 5,
     "metadata": {},
     "output_type": "execute_result"
    }
   ],
   "source": [
    "%%sql\n",
    "WITH track_genre AS\n",
    "        (\n",
    "        SELECT  t.track_id AS track_id,\n",
    "                t.genre_id AS genre_id, \n",
    "                g.name AS genre_name\n",
    "        FROM track t\n",
    "        LEFT JOIN genre g ON g.genre_id = t.genre_id),\n",
    "    invoice_line_genre_country AS\n",
    "        (\n",
    "        SELECT il.*, t.genre_name, t.genre_id, i.billing_country\n",
    "        FROM invoice_line il\n",
    "        LEFT JOIN invoice i ON i.invoice_id = il.invoice_id\n",
    "        LEFT JOIN track_genre t ON t.track_id = il.track_id)\n",
    "        \n",
    "SELECT  genre_name, \n",
    "        ROUND(SUM(unit_price * quantity),2) AS total_US_revenue,\n",
    "        ROUND(SUM(unit_price * quantity) / (SELECT SUM(unit_price * quantity) FROM invoice_line_genre_country\n",
    "                                      WHERE billing_country = 'USA'),2) AS percent_US_revenue\n",
    "FROM invoice_line_genre_country\n",
    "WHERE billing_country = 'USA'\n",
    "GROUP BY genre_name\n",
    "ORDER BY total_US_revenue DESC"
   ]
  },
  {
   "cell_type": "markdown",
   "metadata": {},
   "source": [
    "## Analysis\n",
    "\n",
    "Based on the table above, rock and alternative/punk were most popular based on total sales. In the four categories we're exploring, the order would be:\n",
    "- Alternative / Punk (12% of sales)\n",
    "- Blues (3%)\n",
    "- Pop (2%)\n",
    "- Hip Hop / Rap (2%)\n",
    "\n",
    "There is some uncertainty in this, as the 'alternative/punk' category may be more popular because of alternative rather than punk. However, there is a separate 'alternative' category, so we may be reasonably confident it's our best choice. It has about 4 times the sales of the next most popular option, Blues.\n",
    "\n",
    "So definitely choose the punk album. For the other three, it's much closer."
   ]
  },
  {
   "cell_type": "markdown",
   "metadata": {},
   "source": [
    "# Task 2: Sales Support Agent Performance\n",
    "\n",
    "Next we can check how well each sales support agent is performing. We will first list the employees and their characteristics, then determine how much each agent has sold."
   ]
  },
  {
   "cell_type": "code",
   "execution_count": 6,
   "metadata": {},
   "outputs": [
    {
     "name": "stdout",
     "output_type": "stream",
     "text": [
      " * sqlite:///chinook.db\n",
      "Done.\n"
     ]
    },
    {
     "data": {
      "text/html": [
       "<table>\n",
       "    <thead>\n",
       "        <tr>\n",
       "            <th>employee_id</th>\n",
       "            <th>first_name</th>\n",
       "            <th>last_name</th>\n",
       "            <th>title</th>\n",
       "            <th>birthdate</th>\n",
       "            <th>hire_date</th>\n",
       "            <th>country</th>\n",
       "        </tr>\n",
       "    </thead>\n",
       "    <tbody>\n",
       "        <tr>\n",
       "            <td>3</td>\n",
       "            <td>Jane</td>\n",
       "            <td>Peacock</td>\n",
       "            <td>Sales Support Agent</td>\n",
       "            <td>1973-08-29 00:00:00</td>\n",
       "            <td>2017-04-01 00:00:00</td>\n",
       "            <td>Canada</td>\n",
       "        </tr>\n",
       "        <tr>\n",
       "            <td>4</td>\n",
       "            <td>Margaret</td>\n",
       "            <td>Park</td>\n",
       "            <td>Sales Support Agent</td>\n",
       "            <td>1947-09-19 00:00:00</td>\n",
       "            <td>2017-05-03 00:00:00</td>\n",
       "            <td>Canada</td>\n",
       "        </tr>\n",
       "        <tr>\n",
       "            <td>5</td>\n",
       "            <td>Steve</td>\n",
       "            <td>Johnson</td>\n",
       "            <td>Sales Support Agent</td>\n",
       "            <td>1965-03-03 00:00:00</td>\n",
       "            <td>2017-10-17 00:00:00</td>\n",
       "            <td>Canada</td>\n",
       "        </tr>\n",
       "    </tbody>\n",
       "</table>"
      ],
      "text/plain": [
       "[(3, 'Jane', 'Peacock', 'Sales Support Agent', '1973-08-29 00:00:00', '2017-04-01 00:00:00', 'Canada'),\n",
       " (4, 'Margaret', 'Park', 'Sales Support Agent', '1947-09-19 00:00:00', '2017-05-03 00:00:00', 'Canada'),\n",
       " (5, 'Steve', 'Johnson', 'Sales Support Agent', '1965-03-03 00:00:00', '2017-10-17 00:00:00', 'Canada')]"
      ]
     },
     "execution_count": 6,
     "metadata": {},
     "output_type": "execute_result"
    }
   ],
   "source": [
    "%%sql\n",
    "\n",
    "SELECT employee_id, first_name, last_name, title, birthdate, hire_date, country\n",
    "FROM employee\n",
    "WHERE title = 'Sales Support Agent'"
   ]
  },
  {
   "cell_type": "code",
   "execution_count": 7,
   "metadata": {},
   "outputs": [
    {
     "name": "stdout",
     "output_type": "stream",
     "text": [
      " * sqlite:///chinook.db\n",
      "Done.\n"
     ]
    },
    {
     "data": {
      "text/html": [
       "<table>\n",
       "    <thead>\n",
       "        <tr>\n",
       "            <th>employee_name</th>\n",
       "            <th>total_sold</th>\n",
       "            <th>percent_sales</th>\n",
       "        </tr>\n",
       "    </thead>\n",
       "    <tbody>\n",
       "        <tr>\n",
       "            <td>Jane Peacock</td>\n",
       "            <td>1731.51</td>\n",
       "            <td>0.37</td>\n",
       "        </tr>\n",
       "        <tr>\n",
       "            <td>Margaret Park</td>\n",
       "            <td>1584.0</td>\n",
       "            <td>0.34</td>\n",
       "        </tr>\n",
       "        <tr>\n",
       "            <td>Steve Johnson</td>\n",
       "            <td>1393.92</td>\n",
       "            <td>0.3</td>\n",
       "        </tr>\n",
       "    </tbody>\n",
       "</table>"
      ],
      "text/plain": [
       "[('Jane Peacock', 1731.51, 0.37),\n",
       " ('Margaret Park', 1584.0, 0.34),\n",
       " ('Steve Johnson', 1393.92, 0.3)]"
      ]
     },
     "execution_count": 7,
     "metadata": {},
     "output_type": "execute_result"
    }
   ],
   "source": [
    "%%sql \n",
    "WITH rep_totals AS\n",
    "    (\n",
    "    SELECT support_rep_id, ROUND(SUM(total),2) AS total_sold\n",
    "    FROM invoice i\n",
    "    LEFT JOIN customer c ON c.customer_id = i.customer_id\n",
    "    GROUP BY support_rep_id\n",
    "    LIMIT 10\n",
    "    )\n",
    "SELECT  first_name || \" \" || last_name AS employee_name,\n",
    "        total_sold,\n",
    "        ROUND(total_sold / (SELECT SUM(total_sold) FROM rep_totals),2) AS percent_sales\n",
    "FROM employee e\n",
    "INNER JOIN rep_totals t ON t.support_rep_id = e.employee_id\n",
    "ORDER BY total_sold DESC"
   ]
  },
  {
   "cell_type": "markdown",
   "metadata": {},
   "source": [
    "## Analysis\n",
    "\n",
    "Jane has the highest percent of sales (37%), followed closely by Margaret and Steve.\n",
    "\n",
    "Jane and Margaret have both been working at the company for at least 5 months more than Steve, so it makes sense that they would have more sales. Depending on when this data was taken, Steve may in fact have relatively more sales for the time spent working there."
   ]
  },
  {
   "cell_type": "markdown",
   "metadata": {},
   "source": [
    "# Task 3: Sales by Country\n",
    "\n",
    "We would like to analyze the store's relative performance in different countries. For each country, we'll find:\n",
    "- total number of customers\n",
    "- total value of sales\n",
    "- average value of sales per customer\n",
    "- average order value\n",
    "\n",
    "The table below lists the top ten countries by total number of distinct customers."
   ]
  },
  {
   "cell_type": "code",
   "execution_count": 33,
   "metadata": {},
   "outputs": [
    {
     "name": "stdout",
     "output_type": "stream",
     "text": [
      " * sqlite:///chinook.db\n",
      "Done.\n"
     ]
    },
    {
     "data": {
      "text/html": [
       "<table>\n",
       "    <thead>\n",
       "        <tr>\n",
       "            <th>country</th>\n",
       "            <th>total_purchases</th>\n",
       "            <th>total_customers</th>\n",
       "        </tr>\n",
       "    </thead>\n",
       "    <tbody>\n",
       "        <tr>\n",
       "            <td>USA</td>\n",
       "            <td>131</td>\n",
       "            <td>13</td>\n",
       "        </tr>\n",
       "        <tr>\n",
       "            <td>Canada</td>\n",
       "            <td>76</td>\n",
       "            <td>8</td>\n",
       "        </tr>\n",
       "        <tr>\n",
       "            <td>France</td>\n",
       "            <td>50</td>\n",
       "            <td>5</td>\n",
       "        </tr>\n",
       "        <tr>\n",
       "            <td>Brazil</td>\n",
       "            <td>61</td>\n",
       "            <td>5</td>\n",
       "        </tr>\n",
       "        <tr>\n",
       "            <td>Germany</td>\n",
       "            <td>41</td>\n",
       "            <td>4</td>\n",
       "        </tr>\n",
       "        <tr>\n",
       "            <td>United Kingdom</td>\n",
       "            <td>28</td>\n",
       "            <td>3</td>\n",
       "        </tr>\n",
       "        <tr>\n",
       "            <td>Portugal</td>\n",
       "            <td>29</td>\n",
       "            <td>2</td>\n",
       "        </tr>\n",
       "        <tr>\n",
       "            <td>India</td>\n",
       "            <td>21</td>\n",
       "            <td>2</td>\n",
       "        </tr>\n",
       "        <tr>\n",
       "            <td>Czech Republic</td>\n",
       "            <td>30</td>\n",
       "            <td>2</td>\n",
       "        </tr>\n",
       "        <tr>\n",
       "            <td>Sweden</td>\n",
       "            <td>10</td>\n",
       "            <td>1</td>\n",
       "        </tr>\n",
       "    </tbody>\n",
       "</table>"
      ],
      "text/plain": [
       "[('USA', 131, 13),\n",
       " ('Canada', 76, 8),\n",
       " ('France', 50, 5),\n",
       " ('Brazil', 61, 5),\n",
       " ('Germany', 41, 4),\n",
       " ('United Kingdom', 28, 3),\n",
       " ('Portugal', 29, 2),\n",
       " ('India', 21, 2),\n",
       " ('Czech Republic', 30, 2),\n",
       " ('Sweden', 10, 1)]"
      ]
     },
     "execution_count": 33,
     "metadata": {},
     "output_type": "execute_result"
    }
   ],
   "source": [
    "%%sql\n",
    "\n",
    "SELECT country, COUNT(i.customer_id) as total_purchases, COUNT(DISTINCT(i.customer_id)) as total_customers\n",
    "FROM invoice i\n",
    "LEFT JOIN customer c ON c.customer_id = i.customer_id\n",
    "GROUP BY country\n",
    "ORDER BY 3 DESC\n",
    "LIMIT 10"
   ]
  },
  {
   "cell_type": "markdown",
   "metadata": {},
   "source": [
    "It appears from the difference in \"total purchases\" and \"total customers\" that there are repeat customers. Let's verify this by checking all of India's purchases:"
   ]
  },
  {
   "cell_type": "code",
   "execution_count": 10,
   "metadata": {},
   "outputs": [
    {
     "name": "stdout",
     "output_type": "stream",
     "text": [
      " * sqlite:///chinook.db\n",
      "Done.\n"
     ]
    },
    {
     "data": {
      "text/html": [
       "<table>\n",
       "    <thead>\n",
       "        <tr>\n",
       "            <th>invoice_id</th>\n",
       "            <th>customer_id</th>\n",
       "        </tr>\n",
       "    </thead>\n",
       "    <tbody>\n",
       "        <tr>\n",
       "            <td>33</td>\n",
       "            <td>58</td>\n",
       "        </tr>\n",
       "        <tr>\n",
       "            <td>82</td>\n",
       "            <td>58</td>\n",
       "        </tr>\n",
       "        <tr>\n",
       "            <td>100</td>\n",
       "            <td>58</td>\n",
       "        </tr>\n",
       "        <tr>\n",
       "            <td>140</td>\n",
       "            <td>58</td>\n",
       "        </tr>\n",
       "        <tr>\n",
       "            <td>146</td>\n",
       "            <td>58</td>\n",
       "        </tr>\n",
       "        <tr>\n",
       "            <td>246</td>\n",
       "            <td>58</td>\n",
       "        </tr>\n",
       "        <tr>\n",
       "            <td>285</td>\n",
       "            <td>58</td>\n",
       "        </tr>\n",
       "        <tr>\n",
       "            <td>294</td>\n",
       "            <td>58</td>\n",
       "        </tr>\n",
       "        <tr>\n",
       "            <td>320</td>\n",
       "            <td>58</td>\n",
       "        </tr>\n",
       "        <tr>\n",
       "            <td>338</td>\n",
       "            <td>58</td>\n",
       "        </tr>\n",
       "        <tr>\n",
       "            <td>473</td>\n",
       "            <td>58</td>\n",
       "        </tr>\n",
       "        <tr>\n",
       "            <td>506</td>\n",
       "            <td>58</td>\n",
       "        </tr>\n",
       "        <tr>\n",
       "            <td>541</td>\n",
       "            <td>58</td>\n",
       "        </tr>\n",
       "        <tr>\n",
       "            <td>8</td>\n",
       "            <td>59</td>\n",
       "        </tr>\n",
       "        <tr>\n",
       "            <td>37</td>\n",
       "            <td>59</td>\n",
       "        </tr>\n",
       "        <tr>\n",
       "            <td>61</td>\n",
       "            <td>59</td>\n",
       "        </tr>\n",
       "        <tr>\n",
       "            <td>121</td>\n",
       "            <td>59</td>\n",
       "        </tr>\n",
       "        <tr>\n",
       "            <td>155</td>\n",
       "            <td>59</td>\n",
       "        </tr>\n",
       "        <tr>\n",
       "            <td>220</td>\n",
       "            <td>59</td>\n",
       "        </tr>\n",
       "        <tr>\n",
       "            <td>599</td>\n",
       "            <td>59</td>\n",
       "        </tr>\n",
       "        <tr>\n",
       "            <td>607</td>\n",
       "            <td>59</td>\n",
       "        </tr>\n",
       "    </tbody>\n",
       "</table>"
      ],
      "text/plain": [
       "[(33, 58),\n",
       " (82, 58),\n",
       " (100, 58),\n",
       " (140, 58),\n",
       " (146, 58),\n",
       " (246, 58),\n",
       " (285, 58),\n",
       " (294, 58),\n",
       " (320, 58),\n",
       " (338, 58),\n",
       " (473, 58),\n",
       " (506, 58),\n",
       " (541, 58),\n",
       " (8, 59),\n",
       " (37, 59),\n",
       " (61, 59),\n",
       " (121, 59),\n",
       " (155, 59),\n",
       " (220, 59),\n",
       " (599, 59),\n",
       " (607, 59)]"
      ]
     },
     "execution_count": 10,
     "metadata": {},
     "output_type": "execute_result"
    }
   ],
   "source": [
    "%%sql\n",
    "SELECT invoice_id, i.customer_id\n",
    "FROM invoice i\n",
    "LEFT JOIN customer c ON c.customer_id = i.customer_id\n",
    "WHERE country = 'India'"
   ]
  },
  {
   "cell_type": "markdown",
   "metadata": {},
   "source": [
    "Confirmed - there are two distinct customers with multiple purchases totaling 21 as in the previous table. So we'll count by distinct customer IDs when calculating our totals.\n",
    "\n",
    "The table below shows total sales (\\\\$), average sales per customer (\\\\$), and average sales per order (number of songs) for each country."
   ]
  },
  {
   "cell_type": "code",
   "execution_count": 11,
   "metadata": {},
   "outputs": [
    {
     "name": "stdout",
     "output_type": "stream",
     "text": [
      " * sqlite:///chinook.db\n",
      "Done.\n"
     ]
    },
    {
     "data": {
      "text/html": [
       "<table>\n",
       "    <thead>\n",
       "        <tr>\n",
       "            <th>country</th>\n",
       "            <th>total_customers</th>\n",
       "            <th>total_sales</th>\n",
       "            <th>avg_sales_per_customer</th>\n",
       "            <th>avg_sales_per_order</th>\n",
       "        </tr>\n",
       "    </thead>\n",
       "    <tbody>\n",
       "        <tr>\n",
       "            <td>USA</td>\n",
       "            <td>13</td>\n",
       "            <td>1040.49</td>\n",
       "            <td>80.04</td>\n",
       "            <td>7.9</td>\n",
       "        </tr>\n",
       "        <tr>\n",
       "            <td>Canada</td>\n",
       "            <td>8</td>\n",
       "            <td>535.59</td>\n",
       "            <td>66.95</td>\n",
       "            <td>7.0</td>\n",
       "        </tr>\n",
       "        <tr>\n",
       "            <td>France</td>\n",
       "            <td>5</td>\n",
       "            <td>389.07</td>\n",
       "            <td>77.81</td>\n",
       "            <td>7.8</td>\n",
       "        </tr>\n",
       "        <tr>\n",
       "            <td>Brazil</td>\n",
       "            <td>5</td>\n",
       "            <td>427.68</td>\n",
       "            <td>85.54</td>\n",
       "            <td>7.0</td>\n",
       "        </tr>\n",
       "        <tr>\n",
       "            <td>Germany</td>\n",
       "            <td>4</td>\n",
       "            <td>334.62</td>\n",
       "            <td>83.66</td>\n",
       "            <td>8.2</td>\n",
       "        </tr>\n",
       "        <tr>\n",
       "            <td>United Kingdom</td>\n",
       "            <td>3</td>\n",
       "            <td>245.52</td>\n",
       "            <td>81.84</td>\n",
       "            <td>8.8</td>\n",
       "        </tr>\n",
       "        <tr>\n",
       "            <td>Portugal</td>\n",
       "            <td>2</td>\n",
       "            <td>185.13</td>\n",
       "            <td>92.57</td>\n",
       "            <td>6.4</td>\n",
       "        </tr>\n",
       "        <tr>\n",
       "            <td>India</td>\n",
       "            <td>2</td>\n",
       "            <td>183.15</td>\n",
       "            <td>91.58</td>\n",
       "            <td>8.7</td>\n",
       "        </tr>\n",
       "        <tr>\n",
       "            <td>Czech Republic</td>\n",
       "            <td>2</td>\n",
       "            <td>273.24</td>\n",
       "            <td>136.62</td>\n",
       "            <td>9.1</td>\n",
       "        </tr>\n",
       "        <tr>\n",
       "            <td>Sweden</td>\n",
       "            <td>1</td>\n",
       "            <td>75.24</td>\n",
       "            <td>75.24</td>\n",
       "            <td>7.5</td>\n",
       "        </tr>\n",
       "        <tr>\n",
       "            <td>Spain</td>\n",
       "            <td>1</td>\n",
       "            <td>98.01</td>\n",
       "            <td>98.01</td>\n",
       "            <td>8.9</td>\n",
       "        </tr>\n",
       "        <tr>\n",
       "            <td>Poland</td>\n",
       "            <td>1</td>\n",
       "            <td>76.23</td>\n",
       "            <td>76.23</td>\n",
       "            <td>7.6</td>\n",
       "        </tr>\n",
       "        <tr>\n",
       "            <td>Norway</td>\n",
       "            <td>1</td>\n",
       "            <td>72.27</td>\n",
       "            <td>72.27</td>\n",
       "            <td>8.0</td>\n",
       "        </tr>\n",
       "        <tr>\n",
       "            <td>Netherlands</td>\n",
       "            <td>1</td>\n",
       "            <td>65.34</td>\n",
       "            <td>65.34</td>\n",
       "            <td>6.5</td>\n",
       "        </tr>\n",
       "        <tr>\n",
       "            <td>Italy</td>\n",
       "            <td>1</td>\n",
       "            <td>50.49</td>\n",
       "            <td>50.49</td>\n",
       "            <td>5.6</td>\n",
       "        </tr>\n",
       "        <tr>\n",
       "            <td>Ireland</td>\n",
       "            <td>1</td>\n",
       "            <td>114.84</td>\n",
       "            <td>114.84</td>\n",
       "            <td>8.8</td>\n",
       "        </tr>\n",
       "        <tr>\n",
       "            <td>Hungary</td>\n",
       "            <td>1</td>\n",
       "            <td>78.21</td>\n",
       "            <td>78.21</td>\n",
       "            <td>7.8</td>\n",
       "        </tr>\n",
       "        <tr>\n",
       "            <td>Finland</td>\n",
       "            <td>1</td>\n",
       "            <td>79.2</td>\n",
       "            <td>79.2</td>\n",
       "            <td>7.2</td>\n",
       "        </tr>\n",
       "        <tr>\n",
       "            <td>Denmark</td>\n",
       "            <td>1</td>\n",
       "            <td>37.62</td>\n",
       "            <td>37.62</td>\n",
       "            <td>3.8</td>\n",
       "        </tr>\n",
       "        <tr>\n",
       "            <td>Chile</td>\n",
       "            <td>1</td>\n",
       "            <td>97.02</td>\n",
       "            <td>97.02</td>\n",
       "            <td>7.5</td>\n",
       "        </tr>\n",
       "        <tr>\n",
       "            <td>Belgium</td>\n",
       "            <td>1</td>\n",
       "            <td>60.39</td>\n",
       "            <td>60.39</td>\n",
       "            <td>8.6</td>\n",
       "        </tr>\n",
       "        <tr>\n",
       "            <td>Austria</td>\n",
       "            <td>1</td>\n",
       "            <td>69.3</td>\n",
       "            <td>69.3</td>\n",
       "            <td>7.7</td>\n",
       "        </tr>\n",
       "        <tr>\n",
       "            <td>Australia</td>\n",
       "            <td>1</td>\n",
       "            <td>81.18</td>\n",
       "            <td>81.18</td>\n",
       "            <td>8.1</td>\n",
       "        </tr>\n",
       "        <tr>\n",
       "            <td>Argentina</td>\n",
       "            <td>1</td>\n",
       "            <td>39.6</td>\n",
       "            <td>39.6</td>\n",
       "            <td>7.9</td>\n",
       "        </tr>\n",
       "    </tbody>\n",
       "</table>"
      ],
      "text/plain": [
       "[('USA', 13, 1040.49, 80.04, 7.9),\n",
       " ('Canada', 8, 535.59, 66.95, 7.0),\n",
       " ('France', 5, 389.07, 77.81, 7.8),\n",
       " ('Brazil', 5, 427.68, 85.54, 7.0),\n",
       " ('Germany', 4, 334.62, 83.66, 8.2),\n",
       " ('United Kingdom', 3, 245.52, 81.84, 8.8),\n",
       " ('Portugal', 2, 185.13, 92.57, 6.4),\n",
       " ('India', 2, 183.15, 91.58, 8.7),\n",
       " ('Czech Republic', 2, 273.24, 136.62, 9.1),\n",
       " ('Sweden', 1, 75.24, 75.24, 7.5),\n",
       " ('Spain', 1, 98.01, 98.01, 8.9),\n",
       " ('Poland', 1, 76.23, 76.23, 7.6),\n",
       " ('Norway', 1, 72.27, 72.27, 8.0),\n",
       " ('Netherlands', 1, 65.34, 65.34, 6.5),\n",
       " ('Italy', 1, 50.49, 50.49, 5.6),\n",
       " ('Ireland', 1, 114.84, 114.84, 8.8),\n",
       " ('Hungary', 1, 78.21, 78.21, 7.8),\n",
       " ('Finland', 1, 79.2, 79.2, 7.2),\n",
       " ('Denmark', 1, 37.62, 37.62, 3.8),\n",
       " ('Chile', 1, 97.02, 97.02, 7.5),\n",
       " ('Belgium', 1, 60.39, 60.39, 8.6),\n",
       " ('Austria', 1, 69.3, 69.3, 7.7),\n",
       " ('Australia', 1, 81.18, 81.18, 8.1),\n",
       " ('Argentina', 1, 39.6, 39.6, 7.9)]"
      ]
     },
     "execution_count": 11,
     "metadata": {},
     "output_type": "execute_result"
    }
   ],
   "source": [
    "%%sql\n",
    "\n",
    "SELECT  country, \n",
    "        COUNT(DISTINCT(i.customer_id)) AS total_customers,\n",
    "        ROUND(SUM(total),2) AS total_sales,\n",
    "        ROUND(SUM(total) / COUNT(DISTINCT(i.customer_id)),2) AS avg_sales_per_customer,\n",
    "        ROUND(SUM(total) / COUNT(i.invoice_id),1) AS avg_sales_per_order\n",
    "FROM invoice i\n",
    "LEFT JOIN customer c ON c.customer_id = i.customer_id\n",
    "GROUP BY country\n",
    "ORDER BY total_customers DESC"
   ]
  },
  {
   "cell_type": "markdown",
   "metadata": {},
   "source": [
    "Since there are many countries with just one sale, to simplify this chart we'll group them into one \"Other\" category. We do this by creating the following view:"
   ]
  },
  {
   "cell_type": "code",
   "execution_count": 38,
   "metadata": {},
   "outputs": [
    {
     "name": "stdout",
     "output_type": "stream",
     "text": [
      " * sqlite:///chinook.db\n",
      "Done.\n"
     ]
    },
    {
     "data": {
      "text/plain": [
       "[]"
      ]
     },
     "execution_count": 38,
     "metadata": {},
     "output_type": "execute_result"
    }
   ],
   "source": [
    "%%sql\n",
    "CREATE VIEW country_sales AS\n",
    "    \n",
    "    WITH countries_simplified AS\n",
    "        (\n",
    "        SELECT  country,\n",
    "            CASE\n",
    "            WHEN COUNT(DISTINCT(i.customer_id)) = 1 THEN 'Other'\n",
    "            ELSE country END AS country_simplified\n",
    "        FROM invoice i\n",
    "        LEFT JOIN customer c ON c.customer_id = i.customer_id\n",
    "        GROUP BY country\n",
    "        )\n",
    "    \n",
    "SELECT  cs.country_simplified AS country,\n",
    "        COUNT(DISTINCT(i.customer_id)) AS total_customers,\n",
    "        ROUND(SUM(total),2) AS total_sales,\n",
    "        ROUND(SUM(total) / COUNT(DISTINCT(i.customer_id)),2) AS avg_sales_per_customer,\n",
    "        ROUND(SUM(total) / COUNT(i.invoice_id),1) AS avg_sales_per_order\n",
    "FROM invoice i\n",
    "LEFT JOIN customer c ON c.customer_id = i.customer_id\n",
    "LEFT JOIN countries_simplified cs ON cs.country = c.country\n",
    "GROUP BY 1\n",
    "ORDER BY total_customers DESC;"
   ]
  },
  {
   "cell_type": "markdown",
   "metadata": {},
   "source": [
    "Now we sort this view so that the \"Other\" category appears at the end, and countries are otherwise sorted by total number of customers."
   ]
  },
  {
   "cell_type": "code",
   "execution_count": 13,
   "metadata": {},
   "outputs": [
    {
     "name": "stdout",
     "output_type": "stream",
     "text": [
      " * sqlite:///chinook.db\n",
      "Done.\n"
     ]
    },
    {
     "data": {
      "text/html": [
       "<table>\n",
       "    <thead>\n",
       "        <tr>\n",
       "            <th>country</th>\n",
       "            <th>total_customers</th>\n",
       "            <th>total_sales</th>\n",
       "            <th>avg_sales_per_customer</th>\n",
       "            <th>avg_sales_per_order</th>\n",
       "        </tr>\n",
       "    </thead>\n",
       "    <tbody>\n",
       "        <tr>\n",
       "            <td>USA</td>\n",
       "            <td>13</td>\n",
       "            <td>1040.49</td>\n",
       "            <td>80.04</td>\n",
       "            <td>7.9</td>\n",
       "        </tr>\n",
       "        <tr>\n",
       "            <td>Canada</td>\n",
       "            <td>8</td>\n",
       "            <td>535.59</td>\n",
       "            <td>66.95</td>\n",
       "            <td>7.0</td>\n",
       "        </tr>\n",
       "        <tr>\n",
       "            <td>France</td>\n",
       "            <td>5</td>\n",
       "            <td>389.07</td>\n",
       "            <td>77.81</td>\n",
       "            <td>7.8</td>\n",
       "        </tr>\n",
       "        <tr>\n",
       "            <td>Brazil</td>\n",
       "            <td>5</td>\n",
       "            <td>427.68</td>\n",
       "            <td>85.54</td>\n",
       "            <td>7.0</td>\n",
       "        </tr>\n",
       "        <tr>\n",
       "            <td>Germany</td>\n",
       "            <td>4</td>\n",
       "            <td>334.62</td>\n",
       "            <td>83.66</td>\n",
       "            <td>8.2</td>\n",
       "        </tr>\n",
       "        <tr>\n",
       "            <td>United Kingdom</td>\n",
       "            <td>3</td>\n",
       "            <td>245.52</td>\n",
       "            <td>81.84</td>\n",
       "            <td>8.8</td>\n",
       "        </tr>\n",
       "        <tr>\n",
       "            <td>Portugal</td>\n",
       "            <td>2</td>\n",
       "            <td>185.13</td>\n",
       "            <td>92.57</td>\n",
       "            <td>6.4</td>\n",
       "        </tr>\n",
       "        <tr>\n",
       "            <td>India</td>\n",
       "            <td>2</td>\n",
       "            <td>183.15</td>\n",
       "            <td>91.58</td>\n",
       "            <td>8.7</td>\n",
       "        </tr>\n",
       "        <tr>\n",
       "            <td>Czech Republic</td>\n",
       "            <td>2</td>\n",
       "            <td>273.24</td>\n",
       "            <td>136.62</td>\n",
       "            <td>9.1</td>\n",
       "        </tr>\n",
       "        <tr>\n",
       "            <td>Other</td>\n",
       "            <td>15</td>\n",
       "            <td>1094.94</td>\n",
       "            <td>73.0</td>\n",
       "            <td>7.4</td>\n",
       "        </tr>\n",
       "    </tbody>\n",
       "</table>"
      ],
      "text/plain": [
       "[('USA', 13, 1040.49, 80.04, 7.9),\n",
       " ('Canada', 8, 535.59, 66.95, 7.0),\n",
       " ('France', 5, 389.07, 77.81, 7.8),\n",
       " ('Brazil', 5, 427.68, 85.54, 7.0),\n",
       " ('Germany', 4, 334.62, 83.66, 8.2),\n",
       " ('United Kingdom', 3, 245.52, 81.84, 8.8),\n",
       " ('Portugal', 2, 185.13, 92.57, 6.4),\n",
       " ('India', 2, 183.15, 91.58, 8.7),\n",
       " ('Czech Republic', 2, 273.24, 136.62, 9.1),\n",
       " ('Other', 15, 1094.94, 73.0, 7.4)]"
      ]
     },
     "execution_count": 13,
     "metadata": {},
     "output_type": "execute_result"
    }
   ],
   "source": [
    "%%sql\n",
    "WITH country_sales_sorted AS\n",
    "    (\n",
    "    SELECT  cs.*,\n",
    "            CASE \n",
    "            WHEN cs.country = 'Other' THEN 1\n",
    "            ELSE 0 \n",
    "            END AS sort\n",
    "    FROM country_sales cs\n",
    "    )\n",
    "SELECT  country, \n",
    "        total_customers, \n",
    "        total_sales, \n",
    "        avg_sales_per_customer, \n",
    "        avg_sales_per_order\n",
    "FROM country_sales_sorted\n",
    "ORDER BY sort, 2 DESC"
   ]
  },
  {
   "cell_type": "markdown",
   "metadata": {},
   "source": [
    "## Analysis\n",
    "\n",
    "Although the US has the most total sales, the countries with the highest sales per customer are Czechia, Portugal and India. Canadians are cheap.\n",
    "\n",
    "# Task 4: Album vs Song Sales\n",
    "\n",
    "The company would like us to determine whether to continue purchasing full albums to re-sell, or to focus on only the most popular songs in those albums. We want to know how often customers buy entire albums.\n",
    "\n",
    "To do this, we will check each invoice to see whether it corresponds to an album list or not.\n",
    "\n",
    "For every invoice we'll need to choose a track, and then create a table with all songs on that track's album, like the one below:"
   ]
  },
  {
   "cell_type": "code",
   "execution_count": 14,
   "metadata": {},
   "outputs": [
    {
     "name": "stdout",
     "output_type": "stream",
     "text": [
      " * sqlite:///chinook.db\n",
      "Done.\n"
     ]
    },
    {
     "data": {
      "text/html": [
       "<table>\n",
       "    <thead>\n",
       "        <tr>\n",
       "            <th>track_id</th>\n",
       "        </tr>\n",
       "    </thead>\n",
       "    <tbody>\n",
       "        <tr>\n",
       "            <td>1</td>\n",
       "        </tr>\n",
       "        <tr>\n",
       "            <td>6</td>\n",
       "        </tr>\n",
       "        <tr>\n",
       "            <td>7</td>\n",
       "        </tr>\n",
       "        <tr>\n",
       "            <td>8</td>\n",
       "        </tr>\n",
       "        <tr>\n",
       "            <td>9</td>\n",
       "        </tr>\n",
       "        <tr>\n",
       "            <td>10</td>\n",
       "        </tr>\n",
       "        <tr>\n",
       "            <td>11</td>\n",
       "        </tr>\n",
       "        <tr>\n",
       "            <td>12</td>\n",
       "        </tr>\n",
       "        <tr>\n",
       "            <td>13</td>\n",
       "        </tr>\n",
       "        <tr>\n",
       "            <td>14</td>\n",
       "        </tr>\n",
       "    </tbody>\n",
       "</table>"
      ],
      "text/plain": [
       "[(1,), (6,), (7,), (8,), (9,), (10,), (11,), (12,), (13,), (14,)]"
      ]
     },
     "execution_count": 14,
     "metadata": {},
     "output_type": "execute_result"
    }
   ],
   "source": [
    "%%sql\n",
    "SELECT track_id\n",
    "FROM track t\n",
    "WHERE album_id = 1"
   ]
  },
  {
   "cell_type": "markdown",
   "metadata": {},
   "source": [
    "We'll also need table of all tracks on an invoice for each invoice, like this:"
   ]
  },
  {
   "cell_type": "code",
   "execution_count": 15,
   "metadata": {},
   "outputs": [
    {
     "name": "stdout",
     "output_type": "stream",
     "text": [
      " * sqlite:///chinook.db\n",
      "Done.\n"
     ]
    },
    {
     "data": {
      "text/html": [
       "<table>\n",
       "    <thead>\n",
       "        <tr>\n",
       "            <th>track_id</th>\n",
       "        </tr>\n",
       "    </thead>\n",
       "    <tbody>\n",
       "        <tr>\n",
       "            <td>1158</td>\n",
       "        </tr>\n",
       "        <tr>\n",
       "            <td>1159</td>\n",
       "        </tr>\n",
       "        <tr>\n",
       "            <td>1160</td>\n",
       "        </tr>\n",
       "        <tr>\n",
       "            <td>1161</td>\n",
       "        </tr>\n",
       "        <tr>\n",
       "            <td>1162</td>\n",
       "        </tr>\n",
       "        <tr>\n",
       "            <td>1163</td>\n",
       "        </tr>\n",
       "        <tr>\n",
       "            <td>1164</td>\n",
       "        </tr>\n",
       "        <tr>\n",
       "            <td>1165</td>\n",
       "        </tr>\n",
       "        <tr>\n",
       "            <td>1166</td>\n",
       "        </tr>\n",
       "        <tr>\n",
       "            <td>1167</td>\n",
       "        </tr>\n",
       "        <tr>\n",
       "            <td>1168</td>\n",
       "        </tr>\n",
       "        <tr>\n",
       "            <td>1169</td>\n",
       "        </tr>\n",
       "        <tr>\n",
       "            <td>1170</td>\n",
       "        </tr>\n",
       "        <tr>\n",
       "            <td>1171</td>\n",
       "        </tr>\n",
       "        <tr>\n",
       "            <td>1172</td>\n",
       "        </tr>\n",
       "        <tr>\n",
       "            <td>1173</td>\n",
       "        </tr>\n",
       "    </tbody>\n",
       "</table>"
      ],
      "text/plain": [
       "[(1158,),\n",
       " (1159,),\n",
       " (1160,),\n",
       " (1161,),\n",
       " (1162,),\n",
       " (1163,),\n",
       " (1164,),\n",
       " (1165,),\n",
       " (1166,),\n",
       " (1167,),\n",
       " (1168,),\n",
       " (1169,),\n",
       " (1170,),\n",
       " (1171,),\n",
       " (1172,),\n",
       " (1173,)]"
      ]
     },
     "execution_count": 15,
     "metadata": {},
     "output_type": "execute_result"
    }
   ],
   "source": [
    "%%sql\n",
    "SELECT track_id\n",
    "FROM invoice_line il\n",
    "WHERE il.invoice_id = 1"
   ]
  },
  {
   "cell_type": "markdown",
   "metadata": {},
   "source": [
    "We will associate each invoice to an album corresponding to any track, as exemplified below:"
   ]
  },
  {
   "cell_type": "code",
   "execution_count": 16,
   "metadata": {},
   "outputs": [
    {
     "name": "stdout",
     "output_type": "stream",
     "text": [
      " * sqlite:///chinook.db\n",
      "Done.\n"
     ]
    },
    {
     "data": {
      "text/html": [
       "<table>\n",
       "    <thead>\n",
       "        <tr>\n",
       "            <th>invoice_id</th>\n",
       "            <th>album_one</th>\n",
       "        </tr>\n",
       "    </thead>\n",
       "    <tbody>\n",
       "        <tr>\n",
       "            <td>1</td>\n",
       "            <td>91</td>\n",
       "        </tr>\n",
       "        <tr>\n",
       "            <td>2</td>\n",
       "            <td>20</td>\n",
       "        </tr>\n",
       "        <tr>\n",
       "            <td>3</td>\n",
       "            <td>203</td>\n",
       "        </tr>\n",
       "        <tr>\n",
       "            <td>4</td>\n",
       "            <td>58</td>\n",
       "        </tr>\n",
       "        <tr>\n",
       "            <td>5</td>\n",
       "            <td>163</td>\n",
       "        </tr>\n",
       "        <tr>\n",
       "            <td>6</td>\n",
       "            <td>5</td>\n",
       "        </tr>\n",
       "        <tr>\n",
       "            <td>7</td>\n",
       "            <td>6</td>\n",
       "        </tr>\n",
       "        <tr>\n",
       "            <td>8</td>\n",
       "            <td>9</td>\n",
       "        </tr>\n",
       "        <tr>\n",
       "            <td>9</td>\n",
       "            <td>20</td>\n",
       "        </tr>\n",
       "        <tr>\n",
       "            <td>10</td>\n",
       "            <td>215</td>\n",
       "        </tr>\n",
       "        <tr>\n",
       "            <td>11</td>\n",
       "            <td>49</td>\n",
       "        </tr>\n",
       "        <tr>\n",
       "            <td>12</td>\n",
       "            <td>10</td>\n",
       "        </tr>\n",
       "        <tr>\n",
       "            <td>13</td>\n",
       "            <td>206</td>\n",
       "        </tr>\n",
       "        <tr>\n",
       "            <td>14</td>\n",
       "            <td>42</td>\n",
       "        </tr>\n",
       "        <tr>\n",
       "            <td>15</td>\n",
       "            <td>65</td>\n",
       "        </tr>\n",
       "        <tr>\n",
       "            <td>16</td>\n",
       "            <td>4</td>\n",
       "        </tr>\n",
       "        <tr>\n",
       "            <td>17</td>\n",
       "            <td>7</td>\n",
       "        </tr>\n",
       "        <tr>\n",
       "            <td>18</td>\n",
       "            <td>82</td>\n",
       "        </tr>\n",
       "        <tr>\n",
       "            <td>19</td>\n",
       "            <td>11</td>\n",
       "        </tr>\n",
       "        <tr>\n",
       "            <td>20</td>\n",
       "            <td>7</td>\n",
       "        </tr>\n",
       "        <tr>\n",
       "            <td>21</td>\n",
       "            <td>1</td>\n",
       "        </tr>\n",
       "        <tr>\n",
       "            <td>22</td>\n",
       "            <td>33</td>\n",
       "        </tr>\n",
       "        <tr>\n",
       "            <td>23</td>\n",
       "            <td>1</td>\n",
       "        </tr>\n",
       "        <tr>\n",
       "            <td>24</td>\n",
       "            <td>90</td>\n",
       "        </tr>\n",
       "        <tr>\n",
       "            <td>25</td>\n",
       "            <td>5</td>\n",
       "        </tr>\n",
       "    </tbody>\n",
       "</table>"
      ],
      "text/plain": [
       "[(1, 91),\n",
       " (2, 20),\n",
       " (3, 203),\n",
       " (4, 58),\n",
       " (5, 163),\n",
       " (6, 5),\n",
       " (7, 6),\n",
       " (8, 9),\n",
       " (9, 20),\n",
       " (10, 215),\n",
       " (11, 49),\n",
       " (12, 10),\n",
       " (13, 206),\n",
       " (14, 42),\n",
       " (15, 65),\n",
       " (16, 4),\n",
       " (17, 7),\n",
       " (18, 82),\n",
       " (19, 11),\n",
       " (20, 7),\n",
       " (21, 1),\n",
       " (22, 33),\n",
       " (23, 1),\n",
       " (24, 90),\n",
       " (25, 5)]"
      ]
     },
     "execution_count": 16,
     "metadata": {},
     "output_type": "execute_result"
    }
   ],
   "source": [
    "%%sql\n",
    "    SELECT i.invoice_id, MIN(t.album_id) AS album_one\n",
    "    FROM invoice i\n",
    "    INNER JOIN invoice_line il ON il.invoice_id = i.invoice_id\n",
    "    INNER JOIN track t on t.track_id = il.track_id\n",
    "    GROUP BY i.invoice_id\n",
    "    LIMIT 25"
   ]
  },
  {
   "cell_type": "markdown",
   "metadata": {},
   "source": [
    "Now we will expand on the query above by adding a column that compares whether the album's list of tracks matches the invoice's list of tracks, and save that view."
   ]
  },
  {
   "cell_type": "code",
   "execution_count": 41,
   "metadata": {},
   "outputs": [
    {
     "name": "stdout",
     "output_type": "stream",
     "text": [
      " * sqlite:///chinook.db\n",
      "Done.\n"
     ]
    },
    {
     "data": {
      "text/plain": [
       "[]"
      ]
     },
     "execution_count": 41,
     "metadata": {},
     "output_type": "execute_result"
    }
   ],
   "source": [
    "%%sql\n",
    "CREATE VIEW invoice_album_bool AS\n",
    "\n",
    "WITH invoice_and_matching_album AS\n",
    "        (\n",
    "        SELECT  i.invoice_id AS invoice_id, \n",
    "                MIN(t.album_id) AS album_one\n",
    "        FROM invoice i\n",
    "        INNER JOIN invoice_line il ON il.invoice_id = i.invoice_id\n",
    "        INNER JOIN track t on t.track_id = il.track_id\n",
    "        GROUP BY i.invoice_id\n",
    "        )\n",
    "\n",
    "SELECT  invoice_id, \n",
    "        CASE \n",
    "            WHEN \n",
    "                (\n",
    "                SELECT track_id\n",
    "                FROM track t\n",
    "                WHERE t.album_id = ia.album_one\n",
    "\n",
    "                EXCEPT\n",
    "\n",
    "                SELECT track_id\n",
    "                FROM invoice_line il\n",
    "                WHERE il.invoice_id = ia.invoice_id\n",
    "                )                    \n",
    "                IS NULL\n",
    "             AND\n",
    "                ( \n",
    "                SELECT track_id\n",
    "                FROM invoice_line il\n",
    "                WHERE il.invoice_id = ia.invoice_id\n",
    "\n",
    "                EXCEPT\n",
    "\n",
    "                SELECT track_id\n",
    "                FROM track t\n",
    "                WHERE t.album_id = ia.album_one\n",
    "                )\n",
    "                IS NULL\n",
    "            THEN 'Yes'\n",
    "            ELSE 'No'\n",
    "    END AS album_bool\n",
    "FROM invoice_and_matching_album ia"
   ]
  },
  {
   "cell_type": "markdown",
   "metadata": {},
   "source": [
    "Let's look at the first 25 invoices and see if this has worked:"
   ]
  },
  {
   "cell_type": "code",
   "execution_count": 18,
   "metadata": {},
   "outputs": [
    {
     "name": "stdout",
     "output_type": "stream",
     "text": [
      " * sqlite:///chinook.db\n",
      "Done.\n"
     ]
    },
    {
     "data": {
      "text/html": [
       "<table>\n",
       "    <thead>\n",
       "        <tr>\n",
       "            <th>invoice_id</th>\n",
       "            <th>album_bool</th>\n",
       "        </tr>\n",
       "    </thead>\n",
       "    <tbody>\n",
       "        <tr>\n",
       "            <td>1</td>\n",
       "            <td>Yes</td>\n",
       "        </tr>\n",
       "        <tr>\n",
       "            <td>2</td>\n",
       "            <td>No</td>\n",
       "        </tr>\n",
       "        <tr>\n",
       "            <td>3</td>\n",
       "            <td>No</td>\n",
       "        </tr>\n",
       "        <tr>\n",
       "            <td>4</td>\n",
       "            <td>No</td>\n",
       "        </tr>\n",
       "        <tr>\n",
       "            <td>5</td>\n",
       "            <td>Yes</td>\n",
       "        </tr>\n",
       "        <tr>\n",
       "            <td>6</td>\n",
       "            <td>No</td>\n",
       "        </tr>\n",
       "        <tr>\n",
       "            <td>7</td>\n",
       "            <td>No</td>\n",
       "        </tr>\n",
       "        <tr>\n",
       "            <td>8</td>\n",
       "            <td>No</td>\n",
       "        </tr>\n",
       "        <tr>\n",
       "            <td>9</td>\n",
       "            <td>No</td>\n",
       "        </tr>\n",
       "        <tr>\n",
       "            <td>10</td>\n",
       "            <td>No</td>\n",
       "        </tr>\n",
       "        <tr>\n",
       "            <td>11</td>\n",
       "            <td>No</td>\n",
       "        </tr>\n",
       "        <tr>\n",
       "            <td>12</td>\n",
       "            <td>No</td>\n",
       "        </tr>\n",
       "        <tr>\n",
       "            <td>13</td>\n",
       "            <td>No</td>\n",
       "        </tr>\n",
       "        <tr>\n",
       "            <td>14</td>\n",
       "            <td>No</td>\n",
       "        </tr>\n",
       "        <tr>\n",
       "            <td>15</td>\n",
       "            <td>No</td>\n",
       "        </tr>\n",
       "        <tr>\n",
       "            <td>16</td>\n",
       "            <td>No</td>\n",
       "        </tr>\n",
       "        <tr>\n",
       "            <td>17</td>\n",
       "            <td>No</td>\n",
       "        </tr>\n",
       "        <tr>\n",
       "            <td>18</td>\n",
       "            <td>No</td>\n",
       "        </tr>\n",
       "        <tr>\n",
       "            <td>19</td>\n",
       "            <td>No</td>\n",
       "        </tr>\n",
       "        <tr>\n",
       "            <td>20</td>\n",
       "            <td>No</td>\n",
       "        </tr>\n",
       "        <tr>\n",
       "            <td>21</td>\n",
       "            <td>No</td>\n",
       "        </tr>\n",
       "        <tr>\n",
       "            <td>22</td>\n",
       "            <td>No</td>\n",
       "        </tr>\n",
       "        <tr>\n",
       "            <td>23</td>\n",
       "            <td>Yes</td>\n",
       "        </tr>\n",
       "        <tr>\n",
       "            <td>24</td>\n",
       "            <td>Yes</td>\n",
       "        </tr>\n",
       "        <tr>\n",
       "            <td>25</td>\n",
       "            <td>No</td>\n",
       "        </tr>\n",
       "    </tbody>\n",
       "</table>"
      ],
      "text/plain": [
       "[(1, 'Yes'),\n",
       " (2, 'No'),\n",
       " (3, 'No'),\n",
       " (4, 'No'),\n",
       " (5, 'Yes'),\n",
       " (6, 'No'),\n",
       " (7, 'No'),\n",
       " (8, 'No'),\n",
       " (9, 'No'),\n",
       " (10, 'No'),\n",
       " (11, 'No'),\n",
       " (12, 'No'),\n",
       " (13, 'No'),\n",
       " (14, 'No'),\n",
       " (15, 'No'),\n",
       " (16, 'No'),\n",
       " (17, 'No'),\n",
       " (18, 'No'),\n",
       " (19, 'No'),\n",
       " (20, 'No'),\n",
       " (21, 'No'),\n",
       " (22, 'No'),\n",
       " (23, 'Yes'),\n",
       " (24, 'Yes'),\n",
       " (25, 'No')]"
      ]
     },
     "execution_count": 18,
     "metadata": {},
     "output_type": "execute_result"
    }
   ],
   "source": [
    "%%sql        \n",
    "SELECT *\n",
    "FROM invoice_album_bool\n",
    "LIMIT 25"
   ]
  },
  {
   "cell_type": "markdown",
   "metadata": {},
   "source": [
    "Let's check this result by comparing invoice IDs 22 (no album match) and 23 (album match):"
   ]
  },
  {
   "cell_type": "code",
   "execution_count": 19,
   "metadata": {},
   "outputs": [
    {
     "name": "stdout",
     "output_type": "stream",
     "text": [
      " * sqlite:///chinook.db\n",
      "Done.\n"
     ]
    },
    {
     "data": {
      "text/html": [
       "<table>\n",
       "    <thead>\n",
       "        <tr>\n",
       "            <th>invoice_id</th>\n",
       "            <th>track_id</th>\n",
       "        </tr>\n",
       "    </thead>\n",
       "    <tbody>\n",
       "        <tr>\n",
       "            <td>22</td>\n",
       "            <td>1000</td>\n",
       "        </tr>\n",
       "        <tr>\n",
       "            <td>22</td>\n",
       "            <td>383</td>\n",
       "        </tr>\n",
       "        <tr>\n",
       "            <td>23</td>\n",
       "            <td>1</td>\n",
       "        </tr>\n",
       "        <tr>\n",
       "            <td>23</td>\n",
       "            <td>6</td>\n",
       "        </tr>\n",
       "        <tr>\n",
       "            <td>23</td>\n",
       "            <td>7</td>\n",
       "        </tr>\n",
       "        <tr>\n",
       "            <td>23</td>\n",
       "            <td>8</td>\n",
       "        </tr>\n",
       "        <tr>\n",
       "            <td>23</td>\n",
       "            <td>9</td>\n",
       "        </tr>\n",
       "        <tr>\n",
       "            <td>23</td>\n",
       "            <td>10</td>\n",
       "        </tr>\n",
       "        <tr>\n",
       "            <td>23</td>\n",
       "            <td>11</td>\n",
       "        </tr>\n",
       "        <tr>\n",
       "            <td>23</td>\n",
       "            <td>12</td>\n",
       "        </tr>\n",
       "        <tr>\n",
       "            <td>23</td>\n",
       "            <td>13</td>\n",
       "        </tr>\n",
       "        <tr>\n",
       "            <td>23</td>\n",
       "            <td>14</td>\n",
       "        </tr>\n",
       "    </tbody>\n",
       "</table>"
      ],
      "text/plain": [
       "[(22, 1000),\n",
       " (22, 383),\n",
       " (23, 1),\n",
       " (23, 6),\n",
       " (23, 7),\n",
       " (23, 8),\n",
       " (23, 9),\n",
       " (23, 10),\n",
       " (23, 11),\n",
       " (23, 12),\n",
       " (23, 13),\n",
       " (23, 14)]"
      ]
     },
     "execution_count": 19,
     "metadata": {},
     "output_type": "execute_result"
    }
   ],
   "source": [
    "%%sql\n",
    "SELECT invoice_id, track_id\n",
    "FROM invoice_line il\n",
    "WHERE (il.invoice_id = 22 OR il.invoice_id = 23)"
   ]
  },
  {
   "cell_type": "code",
   "execution_count": 20,
   "metadata": {},
   "outputs": [
    {
     "name": "stdout",
     "output_type": "stream",
     "text": [
      " * sqlite:///chinook.db\n",
      "Done.\n"
     ]
    },
    {
     "data": {
      "text/html": [
       "<table>\n",
       "    <thead>\n",
       "        <tr>\n",
       "            <th>album_id</th>\n",
       "            <th>track_id</th>\n",
       "        </tr>\n",
       "    </thead>\n",
       "    <tbody>\n",
       "        <tr>\n",
       "            <td>1</td>\n",
       "            <td>1</td>\n",
       "        </tr>\n",
       "        <tr>\n",
       "            <td>1</td>\n",
       "            <td>6</td>\n",
       "        </tr>\n",
       "        <tr>\n",
       "            <td>1</td>\n",
       "            <td>7</td>\n",
       "        </tr>\n",
       "        <tr>\n",
       "            <td>1</td>\n",
       "            <td>8</td>\n",
       "        </tr>\n",
       "        <tr>\n",
       "            <td>1</td>\n",
       "            <td>9</td>\n",
       "        </tr>\n",
       "        <tr>\n",
       "            <td>1</td>\n",
       "            <td>10</td>\n",
       "        </tr>\n",
       "        <tr>\n",
       "            <td>1</td>\n",
       "            <td>11</td>\n",
       "        </tr>\n",
       "        <tr>\n",
       "            <td>1</td>\n",
       "            <td>12</td>\n",
       "        </tr>\n",
       "        <tr>\n",
       "            <td>1</td>\n",
       "            <td>13</td>\n",
       "        </tr>\n",
       "        <tr>\n",
       "            <td>1</td>\n",
       "            <td>14</td>\n",
       "        </tr>\n",
       "        <tr>\n",
       "            <td>33</td>\n",
       "            <td>374</td>\n",
       "        </tr>\n",
       "        <tr>\n",
       "            <td>33</td>\n",
       "            <td>375</td>\n",
       "        </tr>\n",
       "        <tr>\n",
       "            <td>33</td>\n",
       "            <td>376</td>\n",
       "        </tr>\n",
       "        <tr>\n",
       "            <td>33</td>\n",
       "            <td>377</td>\n",
       "        </tr>\n",
       "        <tr>\n",
       "            <td>33</td>\n",
       "            <td>378</td>\n",
       "        </tr>\n",
       "        <tr>\n",
       "            <td>33</td>\n",
       "            <td>379</td>\n",
       "        </tr>\n",
       "        <tr>\n",
       "            <td>33</td>\n",
       "            <td>380</td>\n",
       "        </tr>\n",
       "        <tr>\n",
       "            <td>33</td>\n",
       "            <td>381</td>\n",
       "        </tr>\n",
       "        <tr>\n",
       "            <td>33</td>\n",
       "            <td>382</td>\n",
       "        </tr>\n",
       "        <tr>\n",
       "            <td>33</td>\n",
       "            <td>383</td>\n",
       "        </tr>\n",
       "        <tr>\n",
       "            <td>33</td>\n",
       "            <td>384</td>\n",
       "        </tr>\n",
       "        <tr>\n",
       "            <td>33</td>\n",
       "            <td>385</td>\n",
       "        </tr>\n",
       "        <tr>\n",
       "            <td>33</td>\n",
       "            <td>386</td>\n",
       "        </tr>\n",
       "        <tr>\n",
       "            <td>33</td>\n",
       "            <td>387</td>\n",
       "        </tr>\n",
       "        <tr>\n",
       "            <td>33</td>\n",
       "            <td>388</td>\n",
       "        </tr>\n",
       "        <tr>\n",
       "            <td>33</td>\n",
       "            <td>389</td>\n",
       "        </tr>\n",
       "        <tr>\n",
       "            <td>33</td>\n",
       "            <td>390</td>\n",
       "        </tr>\n",
       "    </tbody>\n",
       "</table>"
      ],
      "text/plain": [
       "[(1, 1),\n",
       " (1, 6),\n",
       " (1, 7),\n",
       " (1, 8),\n",
       " (1, 9),\n",
       " (1, 10),\n",
       " (1, 11),\n",
       " (1, 12),\n",
       " (1, 13),\n",
       " (1, 14),\n",
       " (33, 374),\n",
       " (33, 375),\n",
       " (33, 376),\n",
       " (33, 377),\n",
       " (33, 378),\n",
       " (33, 379),\n",
       " (33, 380),\n",
       " (33, 381),\n",
       " (33, 382),\n",
       " (33, 383),\n",
       " (33, 384),\n",
       " (33, 385),\n",
       " (33, 386),\n",
       " (33, 387),\n",
       " (33, 388),\n",
       " (33, 389),\n",
       " (33, 390)]"
      ]
     },
     "execution_count": 20,
     "metadata": {},
     "output_type": "execute_result"
    }
   ],
   "source": [
    "%%sql\n",
    "SELECT album_id, track_id\n",
    "FROM track t\n",
    "WHERE (album_id = 33 OR album_id = 1)"
   ]
  },
  {
   "cell_type": "markdown",
   "metadata": {},
   "source": [
    "By comparing the tables we see that invoice 23 does indeed match to an album, and invoice 22 doesn't - hooray! Now we'll add up the total number of invoices corresponding to albums:"
   ]
  },
  {
   "cell_type": "code",
   "execution_count": 21,
   "metadata": {},
   "outputs": [
    {
     "name": "stdout",
     "output_type": "stream",
     "text": [
      " * sqlite:///chinook.db\n",
      "Done.\n"
     ]
    },
    {
     "data": {
      "text/html": [
       "<table>\n",
       "    <thead>\n",
       "        <tr>\n",
       "            <th>album_status</th>\n",
       "            <th>Total</th>\n",
       "            <th>Percent</th>\n",
       "        </tr>\n",
       "    </thead>\n",
       "    <tbody>\n",
       "        <tr>\n",
       "            <td>No</td>\n",
       "            <td>500</td>\n",
       "            <td>0.81</td>\n",
       "        </tr>\n",
       "        <tr>\n",
       "            <td>Yes</td>\n",
       "            <td>114</td>\n",
       "            <td>0.19</td>\n",
       "        </tr>\n",
       "    </tbody>\n",
       "</table>"
      ],
      "text/plain": [
       "[('No', 500, 0.81), ('Yes', 114, 0.19)]"
      ]
     },
     "execution_count": 21,
     "metadata": {},
     "output_type": "execute_result"
    }
   ],
   "source": [
    "%%sql\n",
    "SELECT  album_bool AS album_status,\n",
    "        COUNT(album_bool) AS 'Total',\n",
    "        ROUND(CAST(COUNT(album_bool) AS FLOAT)/(SELECT COUNT(*) FROM invoice_album_bool),2) AS 'Percent'\n",
    "FROM invoice_album_bool\n",
    "GROUP BY album_bool"
   ]
  },
  {
   "cell_type": "markdown",
   "metadata": {},
   "source": [
    "## Analysis - Album vs Single\n",
    "\n",
    "About 20% of users purchase entire albums, so switching to a single-only strategy might mean up to 20% of our consumers go elsewhere if they really prefer buying full albums. However, it's unlikely they would all leave, and the other 80% might buy more singles, so would make up for that lost revenue.\n",
    "\n",
    "## Further Investigation - Album Buyer Profile\n",
    "\n",
    "We can further analyze whether our frequent album-buying customers generate significant revenue.\n",
    "\n",
    "Firstly, we can check how many unique customers bought whole albums."
   ]
  },
  {
   "cell_type": "code",
   "execution_count": 22,
   "metadata": {},
   "outputs": [
    {
     "name": "stdout",
     "output_type": "stream",
     "text": [
      " * sqlite:///chinook.db\n",
      "Done.\n"
     ]
    },
    {
     "data": {
      "text/html": [
       "<table>\n",
       "    <thead>\n",
       "        <tr>\n",
       "            <th>album_bool</th>\n",
       "            <th>total</th>\n",
       "            <th>percent</th>\n",
       "        </tr>\n",
       "    </thead>\n",
       "    <tbody>\n",
       "        <tr>\n",
       "            <td>No</td>\n",
       "            <td>59</td>\n",
       "            <td>1.0</td>\n",
       "        </tr>\n",
       "        <tr>\n",
       "            <td>Yes</td>\n",
       "            <td>54</td>\n",
       "            <td>0.92</td>\n",
       "        </tr>\n",
       "    </tbody>\n",
       "</table>"
      ],
      "text/plain": [
       "[('No', 59, 1.0), ('Yes', 54, 0.92)]"
      ]
     },
     "execution_count": 22,
     "metadata": {},
     "output_type": "execute_result"
    }
   ],
   "source": [
    "%%sql\n",
    "SELECT album_bool, \n",
    "        COUNT(DISTINCT(c.customer_id)) AS total,\n",
    "        ROUND(CAST(COUNT(DISTINCT(c.customer_id)) AS FLOAT) / (SELECT COUNT(DISTINCT(customer_id)) FROM customer) ,2) AS percent\n",
    "FROM invoice_album_bool ia\n",
    "INNER JOIN invoice i ON i.invoice_id = ia.invoice_id\n",
    "INNER JOIN customer c ON c.customer_id = i.customer_id\n",
    "GROUP BY album_bool"
   ]
  },
  {
   "cell_type": "markdown",
   "metadata": {},
   "source": [
    "From the above we can see that almost all customers (54/59) bought at least one album, and all customers bought a single. We can also check how many albums each customer bought:"
   ]
  },
  {
   "cell_type": "code",
   "execution_count": 23,
   "metadata": {},
   "outputs": [
    {
     "name": "stdout",
     "output_type": "stream",
     "text": [
      " * sqlite:///chinook.db\n",
      "Done.\n"
     ]
    },
    {
     "data": {
      "text/html": [
       "<table>\n",
       "    <thead>\n",
       "        <tr>\n",
       "            <th>albums_purchased</th>\n",
       "            <th>number_of_customers</th>\n",
       "            <th>percent_of_album_buyers</th>\n",
       "        </tr>\n",
       "    </thead>\n",
       "    <tbody>\n",
       "        <tr>\n",
       "            <td>1</td>\n",
       "            <td>20</td>\n",
       "            <td>0.37</td>\n",
       "        </tr>\n",
       "        <tr>\n",
       "            <td>2</td>\n",
       "            <td>16</td>\n",
       "            <td>0.3</td>\n",
       "        </tr>\n",
       "        <tr>\n",
       "            <td>3</td>\n",
       "            <td>13</td>\n",
       "            <td>0.24</td>\n",
       "        </tr>\n",
       "        <tr>\n",
       "            <td>4</td>\n",
       "            <td>3</td>\n",
       "            <td>0.06</td>\n",
       "        </tr>\n",
       "        <tr>\n",
       "            <td>5</td>\n",
       "            <td>1</td>\n",
       "            <td>0.02</td>\n",
       "        </tr>\n",
       "        <tr>\n",
       "            <td>6</td>\n",
       "            <td>1</td>\n",
       "            <td>0.02</td>\n",
       "        </tr>\n",
       "    </tbody>\n",
       "</table>"
      ],
      "text/plain": [
       "[(1, 20, 0.37),\n",
       " (2, 16, 0.3),\n",
       " (3, 13, 0.24),\n",
       " (4, 3, 0.06),\n",
       " (5, 1, 0.02),\n",
       " (6, 1, 0.02)]"
      ]
     },
     "execution_count": 23,
     "metadata": {},
     "output_type": "execute_result"
    }
   ],
   "source": [
    "%%sql\n",
    "WITH customer_album_count AS\n",
    "                            (\n",
    "                            SELECT c.customer_id, COUNT(*) AS albums_purchased\n",
    "                            FROM invoice_album_bool ia\n",
    "                            INNER JOIN invoice i ON i.invoice_id = ia.invoice_id\n",
    "                            INNER JOIN customer c ON c.customer_id = i.customer_id\n",
    "                            WHERE album_bool = 'Yes'\n",
    "                            GROUP BY c.customer_id\n",
    "                            )\n",
    "\n",
    "SELECT  albums_purchased, \n",
    "        COUNT(*) AS number_of_customers,\n",
    "        ROUND(CAST(COUNT(*) AS FLOAT) / (SELECT COUNT(*) FROM customer_album_count),2) AS percent_of_album_buyers\n",
    "FROM customer_album_count\n",
    "GROUP BY albums_purchased"
   ]
  },
  {
   "cell_type": "markdown",
   "metadata": {},
   "source": [
    "From the above we can see that 2/3 of the 54 customers who purchased an album only purchased 1 or 2 albums, and only 10% purchased 4 or more albums. So we would be most likely to lose those 5 customers who purchased 4+ albums. Customers who purchased 1-2 albums might remain.\n",
    "\n",
    "## Album Spending vs Total Spending\n",
    "We can further profile those who spend on albums by comparing their total spending to their album spending. First we'll create a table of customer's album vs total spending and then focus on customers who have above-average total spending, since we don't want to lose those customers."
   ]
  },
  {
   "cell_type": "code",
   "execution_count": 43,
   "metadata": {},
   "outputs": [
    {
     "name": "stdout",
     "output_type": "stream",
     "text": [
      " * sqlite:///chinook.db\n",
      "Done.\n"
     ]
    },
    {
     "data": {
      "text/plain": [
       "[]"
      ]
     },
     "execution_count": 43,
     "metadata": {},
     "output_type": "execute_result"
    }
   ],
   "source": [
    "%%sql\n",
    "CREATE VIEW customer_album_total_spending AS\n",
    "\n",
    "WITH invoice_customer_total_album AS\n",
    "        (\n",
    "        SELECT  i.invoice_id AS invoice_id,\n",
    "                c.customer_id AS customer_id,\n",
    "                i.total AS total, \n",
    "                ia.album_bool AS album_bool\n",
    "        FROM invoice_album_bool ia\n",
    "        INNER JOIN invoice i ON i.invoice_id = ia.invoice_id\n",
    "        INNER JOIN customer c ON c.customer_id = i.customer_id\n",
    "        ),\n",
    "     customer_album_spending AS\n",
    "        (\n",
    "        SELECT customer_id, SUM(total) AS album_spending\n",
    "        FROM invoice_customer_total_album\n",
    "        WHERE album_bool = 'Yes'\n",
    "        GROUP BY customer_id\n",
    "        )\n",
    "\n",
    "SELECT  icta.customer_id AS customer_ID,\n",
    "        ROUND(COALESCE(cas.album_spending,0),2) AS album_spending,\n",
    "        ROUND(SUM(total),2) AS total_spending,\n",
    "        ROUND(COALESCE(cas.album_spending,0)/ SUM(total),2) AS percent\n",
    "FROM invoice_customer_total_album icta\n",
    "LEFT JOIN customer_album_spending cas ON cas.customer_id = icta.customer_id \n",
    "GROUP BY icta.customer_id, album_spending"
   ]
  },
  {
   "cell_type": "markdown",
   "metadata": {},
   "source": [
    "Below are the customers whose purchases were at least 50% albums:"
   ]
  },
  {
   "cell_type": "code",
   "execution_count": 44,
   "metadata": {},
   "outputs": [
    {
     "name": "stdout",
     "output_type": "stream",
     "text": [
      " * sqlite:///chinook.db\n",
      "Done.\n"
     ]
    },
    {
     "data": {
      "text/html": [
       "<table>\n",
       "    <thead>\n",
       "        <tr>\n",
       "            <th>customer_ID</th>\n",
       "            <th>album_spending</th>\n",
       "            <th>total_spending</th>\n",
       "            <th>percent</th>\n",
       "        </tr>\n",
       "    </thead>\n",
       "    <tbody>\n",
       "        <tr>\n",
       "            <td>37</td>\n",
       "            <td>73.26</td>\n",
       "            <td>94.05</td>\n",
       "            <td>0.78</td>\n",
       "        </tr>\n",
       "        <tr>\n",
       "            <td>3</td>\n",
       "            <td>61.38</td>\n",
       "            <td>99.99</td>\n",
       "            <td>0.61</td>\n",
       "        </tr>\n",
       "        <tr>\n",
       "            <td>40</td>\n",
       "            <td>39.6</td>\n",
       "            <td>72.27</td>\n",
       "            <td>0.55</td>\n",
       "        </tr>\n",
       "        <tr>\n",
       "            <td>52</td>\n",
       "            <td>37.62</td>\n",
       "            <td>68.31</td>\n",
       "            <td>0.55</td>\n",
       "        </tr>\n",
       "        <tr>\n",
       "            <td>55</td>\n",
       "            <td>43.56</td>\n",
       "            <td>81.18</td>\n",
       "            <td>0.54</td>\n",
       "        </tr>\n",
       "        <tr>\n",
       "            <td>25</td>\n",
       "            <td>39.6</td>\n",
       "            <td>76.23</td>\n",
       "            <td>0.52</td>\n",
       "        </tr>\n",
       "        <tr>\n",
       "            <td>47</td>\n",
       "            <td>25.74</td>\n",
       "            <td>50.49</td>\n",
       "            <td>0.51</td>\n",
       "        </tr>\n",
       "        <tr>\n",
       "            <td>51</td>\n",
       "            <td>37.62</td>\n",
       "            <td>75.24</td>\n",
       "            <td>0.5</td>\n",
       "        </tr>\n",
       "    </tbody>\n",
       "</table>"
      ],
      "text/plain": [
       "[(37, 73.26, 94.05, 0.78),\n",
       " (3, 61.38, 99.99, 0.61),\n",
       " (40, 39.6, 72.27, 0.55),\n",
       " (52, 37.62, 68.31, 0.55),\n",
       " (55, 43.56, 81.18, 0.54),\n",
       " (25, 39.6, 76.23, 0.52),\n",
       " (47, 25.74, 50.49, 0.51),\n",
       " (51, 37.62, 75.24, 0.5)]"
      ]
     },
     "execution_count": 44,
     "metadata": {},
     "output_type": "execute_result"
    }
   ],
   "source": [
    "%%sql\n",
    "SELECT *\n",
    "FROM customer_album_total_spending cats\n",
    "ORDER BY percent DESC\n",
    "LIMIT 8"
   ]
  },
  {
   "cell_type": "code",
   "execution_count": 26,
   "metadata": {},
   "outputs": [
    {
     "name": "stdout",
     "output_type": "stream",
     "text": [
      " * sqlite:///chinook.db\n",
      "Done.\n"
     ]
    },
    {
     "data": {
      "text/html": [
       "<table>\n",
       "    <thead>\n",
       "        <tr>\n",
       "            <th>AVG(percent)</th>\n",
       "        </tr>\n",
       "    </thead>\n",
       "    <tbody>\n",
       "        <tr>\n",
       "            <td>0.30440677966101704</td>\n",
       "        </tr>\n",
       "    </tbody>\n",
       "</table>"
      ],
      "text/plain": [
       "[(0.30440677966101704,)]"
      ]
     },
     "execution_count": 26,
     "metadata": {},
     "output_type": "execute_result"
    }
   ],
   "source": [
    "%%sql\n",
    "SELECT AVG(percent)\n",
    "FROM customer_album_total_spending"
   ]
  },
  {
   "cell_type": "markdown",
   "metadata": {},
   "source": [
    "From the above we see that 8 of 59 customers (or 14%) spend at least 50% of their purchases on albums. This means purchasing albums is a feature they likely depend on. The average percentage is 30%, as calculated above. \n",
    "\n",
    "Are these customers big spenders, too? Based on the above, we'll categorize customers by the percent of their purchases spent on albums as follows:\n",
    "\n",
    "Category | % Spent on Albums\n",
    "---- | :----\n",
    "High | 50-100%\n",
    "Medium | 30-50%\n",
    "Low | 0-30%\n",
    "\n",
    "The table below shows the categories of all customers who spent more than the average total spending:"
   ]
  },
  {
   "cell_type": "code",
   "execution_count": 27,
   "metadata": {},
   "outputs": [
    {
     "name": "stdout",
     "output_type": "stream",
     "text": [
      " * sqlite:///chinook.db\n",
      "Done.\n"
     ]
    },
    {
     "data": {
      "text/html": [
       "<table>\n",
       "    <thead>\n",
       "        <tr>\n",
       "            <th>customer_ID</th>\n",
       "            <th>total_spending</th>\n",
       "            <th>album_spending_category</th>\n",
       "        </tr>\n",
       "    </thead>\n",
       "    <tbody>\n",
       "        <tr>\n",
       "            <td>5</td>\n",
       "            <td>144.54</td>\n",
       "            <td>Medium</td>\n",
       "        </tr>\n",
       "        <tr>\n",
       "            <td>6</td>\n",
       "            <td>128.7</td>\n",
       "            <td>Low</td>\n",
       "        </tr>\n",
       "        <tr>\n",
       "            <td>46</td>\n",
       "            <td>114.84</td>\n",
       "            <td>Medium</td>\n",
       "        </tr>\n",
       "        <tr>\n",
       "            <td>58</td>\n",
       "            <td>111.87</td>\n",
       "            <td>Low</td>\n",
       "        </tr>\n",
       "        <tr>\n",
       "            <td>1</td>\n",
       "            <td>108.9</td>\n",
       "            <td>Medium</td>\n",
       "        </tr>\n",
       "        <tr>\n",
       "            <td>13</td>\n",
       "            <td>106.92</td>\n",
       "            <td>Medium</td>\n",
       "        </tr>\n",
       "        <tr>\n",
       "            <td>34</td>\n",
       "            <td>102.96</td>\n",
       "            <td>Medium</td>\n",
       "        </tr>\n",
       "        <tr>\n",
       "            <td>3</td>\n",
       "            <td>99.99</td>\n",
       "            <td>High</td>\n",
       "        </tr>\n",
       "        <tr>\n",
       "            <td>42</td>\n",
       "            <td>99.99</td>\n",
       "            <td>Low</td>\n",
       "        </tr>\n",
       "        <tr>\n",
       "            <td>17</td>\n",
       "            <td>98.01</td>\n",
       "            <td>Low</td>\n",
       "        </tr>\n",
       "        <tr>\n",
       "            <td>50</td>\n",
       "            <td>98.01</td>\n",
       "            <td>Low</td>\n",
       "        </tr>\n",
       "        <tr>\n",
       "            <td>53</td>\n",
       "            <td>98.01</td>\n",
       "            <td>Medium</td>\n",
       "        </tr>\n",
       "        <tr>\n",
       "            <td>57</td>\n",
       "            <td>97.02</td>\n",
       "            <td>Low</td>\n",
       "        </tr>\n",
       "        <tr>\n",
       "            <td>20</td>\n",
       "            <td>95.04</td>\n",
       "            <td>Low</td>\n",
       "        </tr>\n",
       "        <tr>\n",
       "            <td>37</td>\n",
       "            <td>94.05</td>\n",
       "            <td>High</td>\n",
       "        </tr>\n",
       "        <tr>\n",
       "            <td>22</td>\n",
       "            <td>92.07</td>\n",
       "            <td>Medium</td>\n",
       "        </tr>\n",
       "        <tr>\n",
       "            <td>21</td>\n",
       "            <td>91.08</td>\n",
       "            <td>Medium</td>\n",
       "        </tr>\n",
       "        <tr>\n",
       "            <td>30</td>\n",
       "            <td>91.08</td>\n",
       "            <td>Low</td>\n",
       "        </tr>\n",
       "        <tr>\n",
       "            <td>26</td>\n",
       "            <td>86.13</td>\n",
       "            <td>Low</td>\n",
       "        </tr>\n",
       "        <tr>\n",
       "            <td>36</td>\n",
       "            <td>85.14</td>\n",
       "            <td>Low</td>\n",
       "        </tr>\n",
       "        <tr>\n",
       "            <td>27</td>\n",
       "            <td>84.15</td>\n",
       "            <td>Medium</td>\n",
       "        </tr>\n",
       "        <tr>\n",
       "            <td>2</td>\n",
       "            <td>82.17</td>\n",
       "            <td>Low</td>\n",
       "        </tr>\n",
       "        <tr>\n",
       "            <td>12</td>\n",
       "            <td>82.17</td>\n",
       "            <td>Medium</td>\n",
       "        </tr>\n",
       "        <tr>\n",
       "            <td>35</td>\n",
       "            <td>82.17</td>\n",
       "            <td>Low</td>\n",
       "        </tr>\n",
       "        <tr>\n",
       "            <td>55</td>\n",
       "            <td>81.18</td>\n",
       "            <td>High</td>\n",
       "        </tr>\n",
       "    </tbody>\n",
       "</table>"
      ],
      "text/plain": [
       "[(5, 144.54, 'Medium'),\n",
       " (6, 128.7, 'Low'),\n",
       " (46, 114.84, 'Medium'),\n",
       " (58, 111.87, 'Low'),\n",
       " (1, 108.9, 'Medium'),\n",
       " (13, 106.92, 'Medium'),\n",
       " (34, 102.96, 'Medium'),\n",
       " (3, 99.99, 'High'),\n",
       " (42, 99.99, 'Low'),\n",
       " (17, 98.01, 'Low'),\n",
       " (50, 98.01, 'Low'),\n",
       " (53, 98.01, 'Medium'),\n",
       " (57, 97.02, 'Low'),\n",
       " (20, 95.04, 'Low'),\n",
       " (37, 94.05, 'High'),\n",
       " (22, 92.07, 'Medium'),\n",
       " (21, 91.08, 'Medium'),\n",
       " (30, 91.08, 'Low'),\n",
       " (26, 86.13, 'Low'),\n",
       " (36, 85.14, 'Low'),\n",
       " (27, 84.15, 'Medium'),\n",
       " (2, 82.17, 'Low'),\n",
       " (12, 82.17, 'Medium'),\n",
       " (35, 82.17, 'Low'),\n",
       " (55, 81.18, 'High')]"
      ]
     },
     "execution_count": 27,
     "metadata": {},
     "output_type": "execute_result"
    }
   ],
   "source": [
    "%%sql\n",
    "SELECT  customer_id, \n",
    "        total_spending,\n",
    "        CASE\n",
    "            WHEN percent >= 0.5 THEN 'High'\n",
    "            WHEN percent >= 0.30 THEN 'Medium'\n",
    "            ELSE 'Low' END as album_spending_category\n",
    "FROM customer_album_total_spending cats\n",
    "WHERE total_spending > (SELECT AVG(total_spending) FROM customer_album_total_spending)\n",
    "ORDER BY total_spending DESC"
   ]
  },
  {
   "cell_type": "markdown",
   "metadata": {},
   "source": [
    "There are only three above-average spenders who also purchase a high amount of albums. Below we'll find the average purchase of high, medium, and low album spenders."
   ]
  },
  {
   "cell_type": "code",
   "execution_count": 28,
   "metadata": {},
   "outputs": [
    {
     "name": "stdout",
     "output_type": "stream",
     "text": [
      " * sqlite:///chinook.db\n",
      "Done.\n"
     ]
    },
    {
     "data": {
      "text/html": [
       "<table>\n",
       "    <thead>\n",
       "        <tr>\n",
       "            <th>album_spending_category</th>\n",
       "            <th>average_spending</th>\n",
       "        </tr>\n",
       "    </thead>\n",
       "    <tbody>\n",
       "        <tr>\n",
       "            <td>Medium</td>\n",
       "            <td>102.56</td>\n",
       "        </tr>\n",
       "        <tr>\n",
       "            <td>Low</td>\n",
       "            <td>96.28</td>\n",
       "        </tr>\n",
       "        <tr>\n",
       "            <td>High</td>\n",
       "            <td>91.74</td>\n",
       "        </tr>\n",
       "    </tbody>\n",
       "</table>"
      ],
      "text/plain": [
       "[('Medium', 102.56), ('Low', 96.28), ('High', 91.74)]"
      ]
     },
     "execution_count": 28,
     "metadata": {},
     "output_type": "execute_result"
    }
   ],
   "source": [
    "%%sql\n",
    "SELECT CASE\n",
    "            WHEN percent >= 0.5 THEN 'High'\n",
    "            WHEN percent >= 0.30 THEN 'Medium'\n",
    "            ELSE 'Low' END as album_spending_category,\n",
    "        ROUND(AVG(total_spending),2) as average_spending\n",
    "FROM customer_album_total_spending cats\n",
    "WHERE total_spending > (SELECT AVG(total_spending) FROM customer_album_total_spending)\n",
    "GROUP BY album_spending_category\n",
    "ORDER BY 2 DESC"
   ]
  },
  {
   "cell_type": "markdown",
   "metadata": {},
   "source": [
    "Among above-average spenders, those who buy 30-50% albums spend the most, on average. Those who buy over 50% albums spent about \\\\$10 less on average, which as the category of above-average spenders has a range of about $65, is significant. The range of values is calculated below:"
   ]
  },
  {
   "cell_type": "code",
   "execution_count": 29,
   "metadata": {},
   "outputs": [
    {
     "name": "stdout",
     "output_type": "stream",
     "text": [
      " * sqlite:///chinook.db\n",
      "Done.\n"
     ]
    },
    {
     "data": {
      "text/html": [
       "<table>\n",
       "    <thead>\n",
       "        <tr>\n",
       "            <th>AVG(total_spending)</th>\n",
       "            <th>MAX(total_spending)</th>\n",
       "            <th>range</th>\n",
       "        </tr>\n",
       "    </thead>\n",
       "    <tbody>\n",
       "        <tr>\n",
       "            <td>79.82084745762712</td>\n",
       "            <td>144.54</td>\n",
       "            <td>64.71915254237287</td>\n",
       "        </tr>\n",
       "    </tbody>\n",
       "</table>"
      ],
      "text/plain": [
       "[(79.82084745762712, 144.54, 64.71915254237287)]"
      ]
     },
     "execution_count": 29,
     "metadata": {},
     "output_type": "execute_result"
    }
   ],
   "source": [
    "%%sql\n",
    "SELECT AVG(total_spending), MAX(total_spending), MAX(total_spending) - AVG(total_spending) as range\n",
    "FROM customer_album_total_spending"
   ]
  },
  {
   "cell_type": "markdown",
   "metadata": {},
   "source": [
    "We see similar results for all customers in the table below: high album-spenders do not have the highest average spending, though the difference is less pronounced than among above-average spenders."
   ]
  },
  {
   "cell_type": "code",
   "execution_count": 30,
   "metadata": {
    "scrolled": true
   },
   "outputs": [
    {
     "name": "stdout",
     "output_type": "stream",
     "text": [
      " * sqlite:///chinook.db\n",
      "Done.\n"
     ]
    },
    {
     "data": {
      "text/html": [
       "<table>\n",
       "    <thead>\n",
       "        <tr>\n",
       "            <th>album_spending_category</th>\n",
       "            <th>average_spending</th>\n",
       "        </tr>\n",
       "    </thead>\n",
       "    <tbody>\n",
       "        <tr>\n",
       "            <td>Medium</td>\n",
       "            <td>82.91</td>\n",
       "        </tr>\n",
       "        <tr>\n",
       "            <td>Low</td>\n",
       "            <td>77.84</td>\n",
       "        </tr>\n",
       "        <tr>\n",
       "            <td>High</td>\n",
       "            <td>77.22</td>\n",
       "        </tr>\n",
       "    </tbody>\n",
       "</table>"
      ],
      "text/plain": [
       "[('Medium', 82.91), ('Low', 77.84), ('High', 77.22)]"
      ]
     },
     "execution_count": 30,
     "metadata": {},
     "output_type": "execute_result"
    }
   ],
   "source": [
    "%%sql\n",
    "SELECT CASE\n",
    "            WHEN percent >= 0.5 THEN 'High'\n",
    "            WHEN percent >= 0.30 THEN 'Medium'\n",
    "            ELSE 'Low' END as album_spending_category,\n",
    "        ROUND(AVG(total_spending),2) as average_spending\n",
    "FROM customer_album_total_spending cats\n",
    "GROUP BY album_spending_category\n",
    "ORDER BY 2 DESC"
   ]
  },
  {
   "cell_type": "markdown",
   "metadata": {},
   "source": [
    "Lastly, we can identify the high album-spending, high total-spending customers."
   ]
  },
  {
   "cell_type": "code",
   "execution_count": 31,
   "metadata": {},
   "outputs": [
    {
     "name": "stdout",
     "output_type": "stream",
     "text": [
      " * sqlite:///chinook.db\n",
      "Done.\n"
     ]
    },
    {
     "data": {
      "text/html": [
       "<table>\n",
       "    <thead>\n",
       "        <tr>\n",
       "            <th>customer_name</th>\n",
       "            <th>total_spending</th>\n",
       "            <th>percent_albums</th>\n",
       "        </tr>\n",
       "    </thead>\n",
       "    <tbody>\n",
       "        <tr>\n",
       "            <td>François Tremblay</td>\n",
       "            <td>99.99</td>\n",
       "            <td>0.61</td>\n",
       "        </tr>\n",
       "        <tr>\n",
       "            <td>Fynn Zimmermann</td>\n",
       "            <td>94.05</td>\n",
       "            <td>0.78</td>\n",
       "        </tr>\n",
       "        <tr>\n",
       "            <td>Mark Taylor</td>\n",
       "            <td>81.18</td>\n",
       "            <td>0.54</td>\n",
       "        </tr>\n",
       "    </tbody>\n",
       "</table>"
      ],
      "text/plain": [
       "[('François Tremblay', 99.99, 0.61),\n",
       " ('Fynn Zimmermann', 94.05, 0.78),\n",
       " ('Mark Taylor', 81.18, 0.54)]"
      ]
     },
     "execution_count": 31,
     "metadata": {},
     "output_type": "execute_result"
    }
   ],
   "source": [
    "%%sql\n",
    "SELECT c.first_name || \" \" || c.last_name AS customer_name, cats.total_spending, cats.percent AS percent_albums\n",
    "FROM customer_album_total_spending cats\n",
    "INNER JOIN customer c ON c.customer_id = cats.customer_id\n",
    "WHERE (total_spending > (SELECT AVG(total_spending) FROM customer_album_total_spending)) AND (percent>0.5)"
   ]
  },
  {
   "cell_type": "markdown",
   "metadata": {},
   "source": [
    "So of 59 customers, these are the 3 that we would be most concerns about losing as customers. We might extend promotions to these customers to retain them.\n",
    "\n",
    "Overall, the evidence suggests that a considerable percentage of current customers use the album-buying feature, though those that use it the most do not necessarily spend the most. Changing to a single-track-purchase strategy would risk losing these customers, but those who buy only 1-2 albums might also stick with this platform since they're already invested. Further research should be done on those who are in this middle zone.\n",
    "\n",
    "In addition, switching to single tracks only might also attract customers who spend more money on popular singles, which might offest the loss of album-buyers. Further investigation could be done to determine which types of single tracks are most popular."
   ]
  }
 ],
 "metadata": {
  "kernelspec": {
   "display_name": "Python 3",
   "language": "python",
   "name": "python3"
  },
  "language_info": {
   "codemirror_mode": {
    "name": "ipython",
    "version": 3
   },
   "file_extension": ".py",
   "mimetype": "text/x-python",
   "name": "python",
   "nbconvert_exporter": "python",
   "pygments_lexer": "ipython3",
   "version": "3.8.5"
  }
 },
 "nbformat": 4,
 "nbformat_minor": 4
}
