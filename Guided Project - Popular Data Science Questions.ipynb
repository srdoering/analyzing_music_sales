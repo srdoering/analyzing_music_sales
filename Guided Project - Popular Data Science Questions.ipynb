{
 "cells": [
  {
   "cell_type": "markdown",
   "metadata": {},
   "source": [
    "Goal: To determine what topics / questions are most interesting to those learning data science.\n",
    "\n",
    "Data Obtained From:\n",
    "https://data.stackexchange.com/datascience/query/edit/1391050#resultSets\n",
    "\n",
    "Via the Query:\n",
    "SELECT Id, PostTypeId, CreationDate, Score, ViewCount, Tags, AnswerCount, FavoriteCount\n",
    "  FROM posts\n",
    "  WHERE CreationDate >= '2019-01-01 00:00:00' \n",
    "        AND CreationDate < '2020-01-01 00:00:00'\n",
    "  ORDER BY Id;\n",
    "  \n",
    "downloaded to CSV 'questions_2019.csv'"
   ]
  },
  {
   "cell_type": "code",
   "execution_count": 1,
   "metadata": {},
   "outputs": [],
   "source": [
    "import pandas as pd\n",
    "posts = pd.read_csv('questions_2019.csv', parse_dates = ['CreationDate'])"
   ]
  },
  {
   "cell_type": "code",
   "execution_count": 2,
   "metadata": {},
   "outputs": [
    {
     "name": "stdout",
     "output_type": "stream",
     "text": [
      "(14681, 8)\n"
     ]
    },
    {
     "data": {
      "text/html": [
       "<div>\n",
       "<style scoped>\n",
       "    .dataframe tbody tr th:only-of-type {\n",
       "        vertical-align: middle;\n",
       "    }\n",
       "\n",
       "    .dataframe tbody tr th {\n",
       "        vertical-align: top;\n",
       "    }\n",
       "\n",
       "    .dataframe thead th {\n",
       "        text-align: right;\n",
       "    }\n",
       "</style>\n",
       "<table border=\"1\" class=\"dataframe\">\n",
       "  <thead>\n",
       "    <tr style=\"text-align: right;\">\n",
       "      <th></th>\n",
       "      <th>Id</th>\n",
       "      <th>PostTypeId</th>\n",
       "      <th>CreationDate</th>\n",
       "      <th>Score</th>\n",
       "      <th>ViewCount</th>\n",
       "      <th>Tags</th>\n",
       "      <th>AnswerCount</th>\n",
       "      <th>FavoriteCount</th>\n",
       "    </tr>\n",
       "  </thead>\n",
       "  <tbody>\n",
       "    <tr>\n",
       "      <th>0</th>\n",
       "      <td>43360</td>\n",
       "      <td>2</td>\n",
       "      <td>2019-01-01 00:27:48</td>\n",
       "      <td>12</td>\n",
       "      <td>NaN</td>\n",
       "      <td>NaN</td>\n",
       "      <td>NaN</td>\n",
       "      <td>NaN</td>\n",
       "    </tr>\n",
       "    <tr>\n",
       "      <th>1</th>\n",
       "      <td>43361</td>\n",
       "      <td>2</td>\n",
       "      <td>2019-01-01 02:50:07</td>\n",
       "      <td>0</td>\n",
       "      <td>NaN</td>\n",
       "      <td>NaN</td>\n",
       "      <td>NaN</td>\n",
       "      <td>NaN</td>\n",
       "    </tr>\n",
       "    <tr>\n",
       "      <th>2</th>\n",
       "      <td>43363</td>\n",
       "      <td>1</td>\n",
       "      <td>2019-01-01 03:53:02</td>\n",
       "      <td>0</td>\n",
       "      <td>36.0</td>\n",
       "      <td>&lt;machine-learning&gt;&lt;nlp&gt;</td>\n",
       "      <td>1.0</td>\n",
       "      <td>NaN</td>\n",
       "    </tr>\n",
       "    <tr>\n",
       "      <th>3</th>\n",
       "      <td>43364</td>\n",
       "      <td>2</td>\n",
       "      <td>2019-01-01 05:49:35</td>\n",
       "      <td>1</td>\n",
       "      <td>NaN</td>\n",
       "      <td>NaN</td>\n",
       "      <td>NaN</td>\n",
       "      <td>NaN</td>\n",
       "    </tr>\n",
       "    <tr>\n",
       "      <th>4</th>\n",
       "      <td>43366</td>\n",
       "      <td>1</td>\n",
       "      <td>2019-01-01 06:02:07</td>\n",
       "      <td>3</td>\n",
       "      <td>60.0</td>\n",
       "      <td>&lt;deep-learning&gt;&lt;image-classification&gt;&lt;convolut...</td>\n",
       "      <td>1.0</td>\n",
       "      <td>1.0</td>\n",
       "    </tr>\n",
       "  </tbody>\n",
       "</table>\n",
       "</div>"
      ],
      "text/plain": [
       "      Id  PostTypeId        CreationDate  Score  ViewCount  \\\n",
       "0  43360           2 2019-01-01 00:27:48     12        NaN   \n",
       "1  43361           2 2019-01-01 02:50:07      0        NaN   \n",
       "2  43363           1 2019-01-01 03:53:02      0       36.0   \n",
       "3  43364           2 2019-01-01 05:49:35      1        NaN   \n",
       "4  43366           1 2019-01-01 06:02:07      3       60.0   \n",
       "\n",
       "                                                Tags  AnswerCount  \\\n",
       "0                                                NaN          NaN   \n",
       "1                                                NaN          NaN   \n",
       "2                            <machine-learning><nlp>          1.0   \n",
       "3                                                NaN          NaN   \n",
       "4  <deep-learning><image-classification><convolut...          1.0   \n",
       "\n",
       "   FavoriteCount  \n",
       "0            NaN  \n",
       "1            NaN  \n",
       "2            NaN  \n",
       "3            NaN  \n",
       "4            1.0  "
      ]
     },
     "execution_count": 2,
     "metadata": {},
     "output_type": "execute_result"
    }
   ],
   "source": [
    "print(posts.shape)\n",
    "\n",
    "posts.head()"
   ]
  },
  {
   "cell_type": "markdown",
   "metadata": {},
   "source": [
    "# Data Cleaning"
   ]
  },
  {
   "cell_type": "code",
   "execution_count": 3,
   "metadata": {},
   "outputs": [
    {
     "data": {
      "text/plain": [
       "Id                        int64\n",
       "PostTypeId                int64\n",
       "CreationDate     datetime64[ns]\n",
       "Score                     int64\n",
       "ViewCount               float64\n",
       "Tags                     object\n",
       "AnswerCount             float64\n",
       "FavoriteCount           float64\n",
       "dtype: object"
      ]
     },
     "execution_count": 3,
     "metadata": {},
     "output_type": "execute_result"
    }
   ],
   "source": [
    "posts.dtypes"
   ]
  },
  {
   "cell_type": "code",
   "execution_count": 4,
   "metadata": {},
   "outputs": [
    {
     "data": {
      "text/plain": [
       "Id                   0\n",
       "PostTypeId           0\n",
       "CreationDate         0\n",
       "Score                0\n",
       "ViewCount         7905\n",
       "Tags              7905\n",
       "AnswerCount       7905\n",
       "FavoriteCount    13059\n",
       "dtype: int64"
      ]
     },
     "execution_count": 4,
     "metadata": {},
     "output_type": "execute_result"
    }
   ],
   "source": [
    "posts.isnull().sum()"
   ]
  },
  {
   "cell_type": "markdown",
   "metadata": {},
   "source": [
    "The first four columns have no null values. Now we'll investigate those with missing values."
   ]
  },
  {
   "cell_type": "code",
   "execution_count": 5,
   "metadata": {},
   "outputs": [
    {
     "data": {
      "text/plain": [
       "array([2, 5, 4, 6])"
      ]
     },
     "execution_count": 5,
     "metadata": {},
     "output_type": "execute_result"
    }
   ],
   "source": [
    "posts[posts['ViewCount'].isnull()]['PostTypeId'].unique()"
   ]
  },
  {
   "cell_type": "markdown",
   "metadata": {},
   "source": [
    "Questions in categories 2, 4, 5, 6 have no associated viewcounts. From the PostType database, \n",
    "\n",
    "PostType ID | Descriptions\n",
    " ------ | :------\n",
    "1 | Question\n",
    "2 | Answer\n",
    "3 | Wiki\n",
    "4 | TagWikiExcerpt\n",
    "5 | TagWiki\n",
    "6 | ModeratorNomination\n",
    "7 | WikiPlaceholder\n",
    "8 | PrivilegeWiki"
   ]
  },
  {
   "cell_type": "code",
   "execution_count": 6,
   "metadata": {},
   "outputs": [
    {
     "data": {
      "text/plain": [
       "2    7715\n",
       "1    6776\n",
       "5      91\n",
       "4      91\n",
       "6       8\n",
       "Name: PostTypeId, dtype: int64"
      ]
     },
     "execution_count": 6,
     "metadata": {},
     "output_type": "execute_result"
    }
   ],
   "source": [
    "posts['PostTypeId'].value_counts()"
   ]
  },
  {
   "cell_type": "markdown",
   "metadata": {},
   "source": [
    "So, only questions have ViewCounts, and probably Tags and AnswerCounts as well. Perhaps we should just filter by Questions."
   ]
  },
  {
   "cell_type": "code",
   "execution_count": 7,
   "metadata": {},
   "outputs": [
    {
     "data": {
      "text/html": [
       "<div>\n",
       "<style scoped>\n",
       "    .dataframe tbody tr th:only-of-type {\n",
       "        vertical-align: middle;\n",
       "    }\n",
       "\n",
       "    .dataframe tbody tr th {\n",
       "        vertical-align: top;\n",
       "    }\n",
       "\n",
       "    .dataframe thead th {\n",
       "        text-align: right;\n",
       "    }\n",
       "</style>\n",
       "<table border=\"1\" class=\"dataframe\">\n",
       "  <thead>\n",
       "    <tr style=\"text-align: right;\">\n",
       "      <th></th>\n",
       "      <th>Id</th>\n",
       "      <th>PostTypeId</th>\n",
       "      <th>CreationDate</th>\n",
       "      <th>Score</th>\n",
       "      <th>ViewCount</th>\n",
       "      <th>Tags</th>\n",
       "      <th>AnswerCount</th>\n",
       "      <th>FavoriteCount</th>\n",
       "    </tr>\n",
       "  </thead>\n",
       "  <tbody>\n",
       "    <tr>\n",
       "      <th>2</th>\n",
       "      <td>43363</td>\n",
       "      <td>1</td>\n",
       "      <td>2019-01-01 03:53:02</td>\n",
       "      <td>0</td>\n",
       "      <td>36.0</td>\n",
       "      <td>&lt;machine-learning&gt;&lt;nlp&gt;</td>\n",
       "      <td>1.0</td>\n",
       "      <td>NaN</td>\n",
       "    </tr>\n",
       "    <tr>\n",
       "      <th>4</th>\n",
       "      <td>43366</td>\n",
       "      <td>1</td>\n",
       "      <td>2019-01-01 06:02:07</td>\n",
       "      <td>3</td>\n",
       "      <td>60.0</td>\n",
       "      <td>&lt;deep-learning&gt;&lt;image-classification&gt;&lt;convolut...</td>\n",
       "      <td>1.0</td>\n",
       "      <td>1.0</td>\n",
       "    </tr>\n",
       "    <tr>\n",
       "      <th>5</th>\n",
       "      <td>43367</td>\n",
       "      <td>1</td>\n",
       "      <td>2019-01-01 06:16:26</td>\n",
       "      <td>0</td>\n",
       "      <td>27.0</td>\n",
       "      <td>&lt;scikit-learn&gt;&lt;tensorflow&gt;&lt;scipy&gt;</td>\n",
       "      <td>1.0</td>\n",
       "      <td>NaN</td>\n",
       "    </tr>\n",
       "    <tr>\n",
       "      <th>7</th>\n",
       "      <td>43370</td>\n",
       "      <td>1</td>\n",
       "      <td>2019-01-01 10:06:03</td>\n",
       "      <td>2</td>\n",
       "      <td>37.0</td>\n",
       "      <td>&lt;classification&gt;</td>\n",
       "      <td>0.0</td>\n",
       "      <td>NaN</td>\n",
       "    </tr>\n",
       "    <tr>\n",
       "      <th>11</th>\n",
       "      <td>43374</td>\n",
       "      <td>1</td>\n",
       "      <td>2019-01-01 13:18:02</td>\n",
       "      <td>3</td>\n",
       "      <td>39.0</td>\n",
       "      <td>&lt;deep-learning&gt;&lt;time-series&gt;&lt;cnn&gt;&lt;convolution&gt;</td>\n",
       "      <td>1.0</td>\n",
       "      <td>NaN</td>\n",
       "    </tr>\n",
       "  </tbody>\n",
       "</table>\n",
       "</div>"
      ],
      "text/plain": [
       "       Id  PostTypeId        CreationDate  Score  ViewCount  \\\n",
       "2   43363           1 2019-01-01 03:53:02      0       36.0   \n",
       "4   43366           1 2019-01-01 06:02:07      3       60.0   \n",
       "5   43367           1 2019-01-01 06:16:26      0       27.0   \n",
       "7   43370           1 2019-01-01 10:06:03      2       37.0   \n",
       "11  43374           1 2019-01-01 13:18:02      3       39.0   \n",
       "\n",
       "                                                 Tags  AnswerCount  \\\n",
       "2                             <machine-learning><nlp>          1.0   \n",
       "4   <deep-learning><image-classification><convolut...          1.0   \n",
       "5                   <scikit-learn><tensorflow><scipy>          1.0   \n",
       "7                                    <classification>          0.0   \n",
       "11     <deep-learning><time-series><cnn><convolution>          1.0   \n",
       "\n",
       "    FavoriteCount  \n",
       "2             NaN  \n",
       "4             1.0  \n",
       "5             NaN  \n",
       "7             NaN  \n",
       "11            NaN  "
      ]
     },
     "execution_count": 7,
     "metadata": {},
     "output_type": "execute_result"
    }
   ],
   "source": [
    "questions = posts[posts['PostTypeId'] == 1].copy()\n",
    "\n",
    "questions.head()"
   ]
  },
  {
   "cell_type": "code",
   "execution_count": 8,
   "metadata": {},
   "outputs": [
    {
     "data": {
      "text/plain": [
       "Id                  0\n",
       "PostTypeId          0\n",
       "CreationDate        0\n",
       "Score               0\n",
       "ViewCount           0\n",
       "Tags                0\n",
       "AnswerCount         0\n",
       "FavoriteCount    5154\n",
       "dtype: int64"
      ]
     },
     "execution_count": 8,
     "metadata": {},
     "output_type": "execute_result"
    }
   ],
   "source": [
    "questions.isnull().sum()"
   ]
  },
  {
   "cell_type": "markdown",
   "metadata": {},
   "source": [
    "Now only the \"FavoriteCount\" has null values."
   ]
  },
  {
   "cell_type": "code",
   "execution_count": 9,
   "metadata": {},
   "outputs": [
    {
     "data": {
      "text/plain": [
       "NaN     5154\n",
       "1.0     1030\n",
       "2.0      260\n",
       "0.0      158\n",
       "3.0       73\n",
       "4.0       40\n",
       "5.0       22\n",
       "6.0       14\n",
       "7.0        8\n",
       "8.0        5\n",
       "9.0        3\n",
       "12.0       2\n",
       "14.0       2\n",
       "17.0       1\n",
       "11.0       1\n",
       "13.0       1\n",
       "15.0       1\n",
       "25.0       1\n",
       "Name: FavoriteCount, dtype: int64"
      ]
     },
     "execution_count": 9,
     "metadata": {},
     "output_type": "execute_result"
    }
   ],
   "source": [
    "questions['FavoriteCount'].value_counts(dropna = False)"
   ]
  },
  {
   "cell_type": "markdown",
   "metadata": {},
   "source": [
    "It's probably safe to assume the null values have zero favorite counts, so we'll convert that."
   ]
  },
  {
   "cell_type": "code",
   "execution_count": 10,
   "metadata": {},
   "outputs": [],
   "source": [
    "questions.fillna(value = {'FavoriteCount':0}, inplace = True)"
   ]
  },
  {
   "cell_type": "code",
   "execution_count": 11,
   "metadata": {},
   "outputs": [
    {
     "data": {
      "text/html": [
       "<div>\n",
       "<style scoped>\n",
       "    .dataframe tbody tr th:only-of-type {\n",
       "        vertical-align: middle;\n",
       "    }\n",
       "\n",
       "    .dataframe tbody tr th {\n",
       "        vertical-align: top;\n",
       "    }\n",
       "\n",
       "    .dataframe thead th {\n",
       "        text-align: right;\n",
       "    }\n",
       "</style>\n",
       "<table border=\"1\" class=\"dataframe\">\n",
       "  <thead>\n",
       "    <tr style=\"text-align: right;\">\n",
       "      <th></th>\n",
       "      <th>Id</th>\n",
       "      <th>PostTypeId</th>\n",
       "      <th>CreationDate</th>\n",
       "      <th>Score</th>\n",
       "      <th>ViewCount</th>\n",
       "      <th>Tags</th>\n",
       "      <th>AnswerCount</th>\n",
       "      <th>FavoriteCount</th>\n",
       "    </tr>\n",
       "  </thead>\n",
       "  <tbody>\n",
       "    <tr>\n",
       "      <th>2</th>\n",
       "      <td>43363</td>\n",
       "      <td>1</td>\n",
       "      <td>2019-01-01 03:53:02</td>\n",
       "      <td>0</td>\n",
       "      <td>36.0</td>\n",
       "      <td>&lt;machine-learning&gt;&lt;nlp&gt;</td>\n",
       "      <td>1.0</td>\n",
       "      <td>0.0</td>\n",
       "    </tr>\n",
       "    <tr>\n",
       "      <th>4</th>\n",
       "      <td>43366</td>\n",
       "      <td>1</td>\n",
       "      <td>2019-01-01 06:02:07</td>\n",
       "      <td>3</td>\n",
       "      <td>60.0</td>\n",
       "      <td>&lt;deep-learning&gt;&lt;image-classification&gt;&lt;convolut...</td>\n",
       "      <td>1.0</td>\n",
       "      <td>1.0</td>\n",
       "    </tr>\n",
       "    <tr>\n",
       "      <th>5</th>\n",
       "      <td>43367</td>\n",
       "      <td>1</td>\n",
       "      <td>2019-01-01 06:16:26</td>\n",
       "      <td>0</td>\n",
       "      <td>27.0</td>\n",
       "      <td>&lt;scikit-learn&gt;&lt;tensorflow&gt;&lt;scipy&gt;</td>\n",
       "      <td>1.0</td>\n",
       "      <td>0.0</td>\n",
       "    </tr>\n",
       "    <tr>\n",
       "      <th>7</th>\n",
       "      <td>43370</td>\n",
       "      <td>1</td>\n",
       "      <td>2019-01-01 10:06:03</td>\n",
       "      <td>2</td>\n",
       "      <td>37.0</td>\n",
       "      <td>&lt;classification&gt;</td>\n",
       "      <td>0.0</td>\n",
       "      <td>0.0</td>\n",
       "    </tr>\n",
       "    <tr>\n",
       "      <th>11</th>\n",
       "      <td>43374</td>\n",
       "      <td>1</td>\n",
       "      <td>2019-01-01 13:18:02</td>\n",
       "      <td>3</td>\n",
       "      <td>39.0</td>\n",
       "      <td>&lt;deep-learning&gt;&lt;time-series&gt;&lt;cnn&gt;&lt;convolution&gt;</td>\n",
       "      <td>1.0</td>\n",
       "      <td>0.0</td>\n",
       "    </tr>\n",
       "  </tbody>\n",
       "</table>\n",
       "</div>"
      ],
      "text/plain": [
       "       Id  PostTypeId        CreationDate  Score  ViewCount  \\\n",
       "2   43363           1 2019-01-01 03:53:02      0       36.0   \n",
       "4   43366           1 2019-01-01 06:02:07      3       60.0   \n",
       "5   43367           1 2019-01-01 06:16:26      0       27.0   \n",
       "7   43370           1 2019-01-01 10:06:03      2       37.0   \n",
       "11  43374           1 2019-01-01 13:18:02      3       39.0   \n",
       "\n",
       "                                                 Tags  AnswerCount  \\\n",
       "2                             <machine-learning><nlp>          1.0   \n",
       "4   <deep-learning><image-classification><convolut...          1.0   \n",
       "5                   <scikit-learn><tensorflow><scipy>          1.0   \n",
       "7                                    <classification>          0.0   \n",
       "11     <deep-learning><time-series><cnn><convolution>          1.0   \n",
       "\n",
       "    FavoriteCount  \n",
       "2             0.0  \n",
       "4             1.0  \n",
       "5             0.0  \n",
       "7             0.0  \n",
       "11            0.0  "
      ]
     },
     "execution_count": 11,
     "metadata": {},
     "output_type": "execute_result"
    }
   ],
   "source": [
    "questions.head()"
   ]
  },
  {
   "cell_type": "markdown",
   "metadata": {},
   "source": [
    "We notice that the `Tags` column has multiple tags in it, each enclosed in <>. Perhaps we can clean this column and convert it to a list of tags."
   ]
  },
  {
   "cell_type": "code",
   "execution_count": 45,
   "metadata": {},
   "outputs": [
    {
     "data": {
      "text/html": [
       "<div>\n",
       "<style scoped>\n",
       "    .dataframe tbody tr th:only-of-type {\n",
       "        vertical-align: middle;\n",
       "    }\n",
       "\n",
       "    .dataframe tbody tr th {\n",
       "        vertical-align: top;\n",
       "    }\n",
       "\n",
       "    .dataframe thead th {\n",
       "        text-align: right;\n",
       "    }\n",
       "</style>\n",
       "<table border=\"1\" class=\"dataframe\">\n",
       "  <thead>\n",
       "    <tr style=\"text-align: right;\">\n",
       "      <th></th>\n",
       "      <th>Id</th>\n",
       "      <th>PostTypeId</th>\n",
       "      <th>CreationDate</th>\n",
       "      <th>Score</th>\n",
       "      <th>ViewCount</th>\n",
       "      <th>Tags</th>\n",
       "      <th>AnswerCount</th>\n",
       "      <th>FavoriteCount</th>\n",
       "      <th>Tags_list</th>\n",
       "    </tr>\n",
       "  </thead>\n",
       "  <tbody>\n",
       "    <tr>\n",
       "      <th>2</th>\n",
       "      <td>43363</td>\n",
       "      <td>1</td>\n",
       "      <td>2019-01-01 03:53:02</td>\n",
       "      <td>0</td>\n",
       "      <td>36.0</td>\n",
       "      <td>&lt;machine-learning&gt;&lt;nlp&gt;</td>\n",
       "      <td>1.0</td>\n",
       "      <td>0.0</td>\n",
       "      <td>[machine-learning, nlp]</td>\n",
       "    </tr>\n",
       "    <tr>\n",
       "      <th>4</th>\n",
       "      <td>43366</td>\n",
       "      <td>1</td>\n",
       "      <td>2019-01-01 06:02:07</td>\n",
       "      <td>3</td>\n",
       "      <td>60.0</td>\n",
       "      <td>&lt;deep-learning&gt;&lt;image-classification&gt;&lt;convolut...</td>\n",
       "      <td>1.0</td>\n",
       "      <td>1.0</td>\n",
       "      <td>[deep-learning, image-classification, convolut...</td>\n",
       "    </tr>\n",
       "    <tr>\n",
       "      <th>5</th>\n",
       "      <td>43367</td>\n",
       "      <td>1</td>\n",
       "      <td>2019-01-01 06:16:26</td>\n",
       "      <td>0</td>\n",
       "      <td>27.0</td>\n",
       "      <td>&lt;scikit-learn&gt;&lt;tensorflow&gt;&lt;scipy&gt;</td>\n",
       "      <td>1.0</td>\n",
       "      <td>0.0</td>\n",
       "      <td>[scikit-learn, tensorflow, scipy]</td>\n",
       "    </tr>\n",
       "    <tr>\n",
       "      <th>7</th>\n",
       "      <td>43370</td>\n",
       "      <td>1</td>\n",
       "      <td>2019-01-01 10:06:03</td>\n",
       "      <td>2</td>\n",
       "      <td>37.0</td>\n",
       "      <td>&lt;classification&gt;</td>\n",
       "      <td>0.0</td>\n",
       "      <td>0.0</td>\n",
       "      <td>[classification]</td>\n",
       "    </tr>\n",
       "    <tr>\n",
       "      <th>11</th>\n",
       "      <td>43374</td>\n",
       "      <td>1</td>\n",
       "      <td>2019-01-01 13:18:02</td>\n",
       "      <td>3</td>\n",
       "      <td>39.0</td>\n",
       "      <td>&lt;deep-learning&gt;&lt;time-series&gt;&lt;cnn&gt;&lt;convolution&gt;</td>\n",
       "      <td>1.0</td>\n",
       "      <td>0.0</td>\n",
       "      <td>[deep-learning, time-series, cnn, convolution]</td>\n",
       "    </tr>\n",
       "  </tbody>\n",
       "</table>\n",
       "</div>"
      ],
      "text/plain": [
       "       Id  PostTypeId        CreationDate  Score  ViewCount  \\\n",
       "2   43363           1 2019-01-01 03:53:02      0       36.0   \n",
       "4   43366           1 2019-01-01 06:02:07      3       60.0   \n",
       "5   43367           1 2019-01-01 06:16:26      0       27.0   \n",
       "7   43370           1 2019-01-01 10:06:03      2       37.0   \n",
       "11  43374           1 2019-01-01 13:18:02      3       39.0   \n",
       "\n",
       "                                                 Tags  AnswerCount  \\\n",
       "2                             <machine-learning><nlp>          1.0   \n",
       "4   <deep-learning><image-classification><convolut...          1.0   \n",
       "5                   <scikit-learn><tensorflow><scipy>          1.0   \n",
       "7                                    <classification>          0.0   \n",
       "11     <deep-learning><time-series><cnn><convolution>          1.0   \n",
       "\n",
       "    FavoriteCount                                          Tags_list  \n",
       "2             0.0                            [machine-learning, nlp]  \n",
       "4             1.0  [deep-learning, image-classification, convolut...  \n",
       "5             0.0                  [scikit-learn, tensorflow, scipy]  \n",
       "7             0.0                                   [classification]  \n",
       "11            0.0     [deep-learning, time-series, cnn, convolution]  "
      ]
     },
     "execution_count": 45,
     "metadata": {},
     "output_type": "execute_result"
    }
   ],
   "source": [
    "#This converts <> list to [,,,] list\n",
    "questions['Tags_list'] = questions['Tags'].str.strip(r'[<>]').str.split('><')\n",
    "\n",
    "questions.head()"
   ]
  },
  {
   "cell_type": "markdown",
   "metadata": {},
   "source": [
    "# Tag Analysis\n",
    "\n",
    "Below, we also create a dataframe of each tag separated out so that we can easily count the number of appearances of each tag. Then we merge it to the database to associate viewcount to tag."
   ]
  },
  {
   "cell_type": "code",
   "execution_count": 40,
   "metadata": {},
   "outputs": [
    {
     "data": {
      "text/html": [
       "<div>\n",
       "<style scoped>\n",
       "    .dataframe tbody tr th:only-of-type {\n",
       "        vertical-align: middle;\n",
       "    }\n",
       "\n",
       "    .dataframe tbody tr th {\n",
       "        vertical-align: top;\n",
       "    }\n",
       "\n",
       "    .dataframe thead th {\n",
       "        text-align: right;\n",
       "    }\n",
       "</style>\n",
       "<table border=\"1\" class=\"dataframe\">\n",
       "  <thead>\n",
       "    <tr style=\"text-align: right;\">\n",
       "      <th></th>\n",
       "      <th>match</th>\n",
       "      <th>tag</th>\n",
       "    </tr>\n",
       "  </thead>\n",
       "  <tbody>\n",
       "    <tr>\n",
       "      <th>2</th>\n",
       "      <td>0</td>\n",
       "      <td>machine-learning</td>\n",
       "    </tr>\n",
       "    <tr>\n",
       "      <th>2</th>\n",
       "      <td>1</td>\n",
       "      <td>nlp</td>\n",
       "    </tr>\n",
       "    <tr>\n",
       "      <th>4</th>\n",
       "      <td>0</td>\n",
       "      <td>deep-learning</td>\n",
       "    </tr>\n",
       "    <tr>\n",
       "      <th>4</th>\n",
       "      <td>1</td>\n",
       "      <td>image-classification</td>\n",
       "    </tr>\n",
       "    <tr>\n",
       "      <th>4</th>\n",
       "      <td>2</td>\n",
       "      <td>convolutional-neural-network</td>\n",
       "    </tr>\n",
       "  </tbody>\n",
       "</table>\n",
       "</div>"
      ],
      "text/plain": [
       "   match                           tag\n",
       "2      0              machine-learning\n",
       "2      1                           nlp\n",
       "4      0                 deep-learning\n",
       "4      1          image-classification\n",
       "4      2  convolutional-neural-network"
      ]
     },
     "execution_count": 40,
     "metadata": {},
     "output_type": "execute_result"
    }
   ],
   "source": [
    "#This extracts all tags and creates one row for each tag (so a multi-index)\n",
    "tag_list = questions['Tags'].str.extractall('<([a-z-]+)>').reset_index(1)\n",
    "tag_list = tag_list.rename(columns = {0: 'tag'})\n",
    "tag_list.head()"
   ]
  },
  {
   "cell_type": "code",
   "execution_count": 44,
   "metadata": {},
   "outputs": [
    {
     "data": {
      "text/html": [
       "<div>\n",
       "<style scoped>\n",
       "    .dataframe tbody tr th:only-of-type {\n",
       "        vertical-align: middle;\n",
       "    }\n",
       "\n",
       "    .dataframe tbody tr th {\n",
       "        vertical-align: top;\n",
       "    }\n",
       "\n",
       "    .dataframe thead th {\n",
       "        text-align: right;\n",
       "    }\n",
       "</style>\n",
       "<table border=\"1\" class=\"dataframe\">\n",
       "  <thead>\n",
       "    <tr style=\"text-align: right;\">\n",
       "      <th></th>\n",
       "      <th>match</th>\n",
       "      <th>tag</th>\n",
       "      <th>Id</th>\n",
       "      <th>PostTypeId</th>\n",
       "      <th>CreationDate</th>\n",
       "      <th>Score</th>\n",
       "      <th>ViewCount</th>\n",
       "      <th>Tags</th>\n",
       "      <th>AnswerCount</th>\n",
       "      <th>FavoriteCount</th>\n",
       "      <th>Tags_list</th>\n",
       "    </tr>\n",
       "  </thead>\n",
       "  <tbody>\n",
       "    <tr>\n",
       "      <th>2</th>\n",
       "      <td>0</td>\n",
       "      <td>machine-learning</td>\n",
       "      <td>43363</td>\n",
       "      <td>1</td>\n",
       "      <td>2019-01-01 03:53:02</td>\n",
       "      <td>0</td>\n",
       "      <td>36.0</td>\n",
       "      <td>&lt;machine-learning&gt;&lt;nlp&gt;</td>\n",
       "      <td>1.0</td>\n",
       "      <td>0.0</td>\n",
       "      <td>[machine-learning, nlp]</td>\n",
       "    </tr>\n",
       "    <tr>\n",
       "      <th>2</th>\n",
       "      <td>1</td>\n",
       "      <td>nlp</td>\n",
       "      <td>43363</td>\n",
       "      <td>1</td>\n",
       "      <td>2019-01-01 03:53:02</td>\n",
       "      <td>0</td>\n",
       "      <td>36.0</td>\n",
       "      <td>&lt;machine-learning&gt;&lt;nlp&gt;</td>\n",
       "      <td>1.0</td>\n",
       "      <td>0.0</td>\n",
       "      <td>[machine-learning, nlp]</td>\n",
       "    </tr>\n",
       "    <tr>\n",
       "      <th>4</th>\n",
       "      <td>0</td>\n",
       "      <td>deep-learning</td>\n",
       "      <td>43366</td>\n",
       "      <td>1</td>\n",
       "      <td>2019-01-01 06:02:07</td>\n",
       "      <td>3</td>\n",
       "      <td>60.0</td>\n",
       "      <td>&lt;deep-learning&gt;&lt;image-classification&gt;&lt;convolut...</td>\n",
       "      <td>1.0</td>\n",
       "      <td>1.0</td>\n",
       "      <td>[deep-learning, image-classification, convolut...</td>\n",
       "    </tr>\n",
       "    <tr>\n",
       "      <th>4</th>\n",
       "      <td>1</td>\n",
       "      <td>image-classification</td>\n",
       "      <td>43366</td>\n",
       "      <td>1</td>\n",
       "      <td>2019-01-01 06:02:07</td>\n",
       "      <td>3</td>\n",
       "      <td>60.0</td>\n",
       "      <td>&lt;deep-learning&gt;&lt;image-classification&gt;&lt;convolut...</td>\n",
       "      <td>1.0</td>\n",
       "      <td>1.0</td>\n",
       "      <td>[deep-learning, image-classification, convolut...</td>\n",
       "    </tr>\n",
       "    <tr>\n",
       "      <th>4</th>\n",
       "      <td>2</td>\n",
       "      <td>convolutional-neural-network</td>\n",
       "      <td>43366</td>\n",
       "      <td>1</td>\n",
       "      <td>2019-01-01 06:02:07</td>\n",
       "      <td>3</td>\n",
       "      <td>60.0</td>\n",
       "      <td>&lt;deep-learning&gt;&lt;image-classification&gt;&lt;convolut...</td>\n",
       "      <td>1.0</td>\n",
       "      <td>1.0</td>\n",
       "      <td>[deep-learning, image-classification, convolut...</td>\n",
       "    </tr>\n",
       "    <tr>\n",
       "      <th>5</th>\n",
       "      <td>0</td>\n",
       "      <td>scikit-learn</td>\n",
       "      <td>43367</td>\n",
       "      <td>1</td>\n",
       "      <td>2019-01-01 06:16:26</td>\n",
       "      <td>0</td>\n",
       "      <td>27.0</td>\n",
       "      <td>&lt;scikit-learn&gt;&lt;tensorflow&gt;&lt;scipy&gt;</td>\n",
       "      <td>1.0</td>\n",
       "      <td>0.0</td>\n",
       "      <td>[scikit-learn, tensorflow, scipy]</td>\n",
       "    </tr>\n",
       "    <tr>\n",
       "      <th>5</th>\n",
       "      <td>1</td>\n",
       "      <td>tensorflow</td>\n",
       "      <td>43367</td>\n",
       "      <td>1</td>\n",
       "      <td>2019-01-01 06:16:26</td>\n",
       "      <td>0</td>\n",
       "      <td>27.0</td>\n",
       "      <td>&lt;scikit-learn&gt;&lt;tensorflow&gt;&lt;scipy&gt;</td>\n",
       "      <td>1.0</td>\n",
       "      <td>0.0</td>\n",
       "      <td>[scikit-learn, tensorflow, scipy]</td>\n",
       "    </tr>\n",
       "    <tr>\n",
       "      <th>5</th>\n",
       "      <td>2</td>\n",
       "      <td>scipy</td>\n",
       "      <td>43367</td>\n",
       "      <td>1</td>\n",
       "      <td>2019-01-01 06:16:26</td>\n",
       "      <td>0</td>\n",
       "      <td>27.0</td>\n",
       "      <td>&lt;scikit-learn&gt;&lt;tensorflow&gt;&lt;scipy&gt;</td>\n",
       "      <td>1.0</td>\n",
       "      <td>0.0</td>\n",
       "      <td>[scikit-learn, tensorflow, scipy]</td>\n",
       "    </tr>\n",
       "    <tr>\n",
       "      <th>7</th>\n",
       "      <td>0</td>\n",
       "      <td>classification</td>\n",
       "      <td>43370</td>\n",
       "      <td>1</td>\n",
       "      <td>2019-01-01 10:06:03</td>\n",
       "      <td>2</td>\n",
       "      <td>37.0</td>\n",
       "      <td>&lt;classification&gt;</td>\n",
       "      <td>0.0</td>\n",
       "      <td>0.0</td>\n",
       "      <td>[classification]</td>\n",
       "    </tr>\n",
       "    <tr>\n",
       "      <th>11</th>\n",
       "      <td>0</td>\n",
       "      <td>deep-learning</td>\n",
       "      <td>43374</td>\n",
       "      <td>1</td>\n",
       "      <td>2019-01-01 13:18:02</td>\n",
       "      <td>3</td>\n",
       "      <td>39.0</td>\n",
       "      <td>&lt;deep-learning&gt;&lt;time-series&gt;&lt;cnn&gt;&lt;convolution&gt;</td>\n",
       "      <td>1.0</td>\n",
       "      <td>0.0</td>\n",
       "      <td>[deep-learning, time-series, cnn, convolution]</td>\n",
       "    </tr>\n",
       "  </tbody>\n",
       "</table>\n",
       "</div>"
      ],
      "text/plain": [
       "    match                           tag     Id  PostTypeId  \\\n",
       "2       0              machine-learning  43363           1   \n",
       "2       1                           nlp  43363           1   \n",
       "4       0                 deep-learning  43366           1   \n",
       "4       1          image-classification  43366           1   \n",
       "4       2  convolutional-neural-network  43366           1   \n",
       "5       0                  scikit-learn  43367           1   \n",
       "5       1                    tensorflow  43367           1   \n",
       "5       2                         scipy  43367           1   \n",
       "7       0                classification  43370           1   \n",
       "11      0                 deep-learning  43374           1   \n",
       "\n",
       "          CreationDate  Score  ViewCount  \\\n",
       "2  2019-01-01 03:53:02      0       36.0   \n",
       "2  2019-01-01 03:53:02      0       36.0   \n",
       "4  2019-01-01 06:02:07      3       60.0   \n",
       "4  2019-01-01 06:02:07      3       60.0   \n",
       "4  2019-01-01 06:02:07      3       60.0   \n",
       "5  2019-01-01 06:16:26      0       27.0   \n",
       "5  2019-01-01 06:16:26      0       27.0   \n",
       "5  2019-01-01 06:16:26      0       27.0   \n",
       "7  2019-01-01 10:06:03      2       37.0   \n",
       "11 2019-01-01 13:18:02      3       39.0   \n",
       "\n",
       "                                                 Tags  AnswerCount  \\\n",
       "2                             <machine-learning><nlp>          1.0   \n",
       "2                             <machine-learning><nlp>          1.0   \n",
       "4   <deep-learning><image-classification><convolut...          1.0   \n",
       "4   <deep-learning><image-classification><convolut...          1.0   \n",
       "4   <deep-learning><image-classification><convolut...          1.0   \n",
       "5                   <scikit-learn><tensorflow><scipy>          1.0   \n",
       "5                   <scikit-learn><tensorflow><scipy>          1.0   \n",
       "5                   <scikit-learn><tensorflow><scipy>          1.0   \n",
       "7                                    <classification>          0.0   \n",
       "11     <deep-learning><time-series><cnn><convolution>          1.0   \n",
       "\n",
       "    FavoriteCount                                          Tags_list  \n",
       "2             0.0                            [machine-learning, nlp]  \n",
       "2             0.0                            [machine-learning, nlp]  \n",
       "4             1.0  [deep-learning, image-classification, convolut...  \n",
       "4             1.0  [deep-learning, image-classification, convolut...  \n",
       "4             1.0  [deep-learning, image-classification, convolut...  \n",
       "5             0.0                  [scikit-learn, tensorflow, scipy]  \n",
       "5             0.0                  [scikit-learn, tensorflow, scipy]  \n",
       "5             0.0                  [scikit-learn, tensorflow, scipy]  \n",
       "7             0.0                                   [classification]  \n",
       "11            0.0     [deep-learning, time-series, cnn, convolution]  "
      ]
     },
     "execution_count": 44,
     "metadata": {},
     "output_type": "execute_result"
    }
   ],
   "source": [
    "merged = tag_list.merge(questions, how = 'left', left_index = True, right_index = True)\n",
    "merged.head(10)"
   ]
  },
  {
   "cell_type": "code",
   "execution_count": 121,
   "metadata": {
    "scrolled": true
   },
   "outputs": [
    {
     "name": "stdout",
     "output_type": "stream",
     "text": [
      "Number of tags: 483\n"
     ]
    }
   ],
   "source": [
    "print('Number of tags:', tag_list['tag'].value_counts().shape[0])"
   ]
  },
  {
   "cell_type": "markdown",
   "metadata": {},
   "source": [
    "There are a lot of tags! Let's see the 20 most common ones:"
   ]
  },
  {
   "cell_type": "code",
   "execution_count": 129,
   "metadata": {},
   "outputs": [
    {
     "data": {
      "text/html": [
       "<div>\n",
       "<style scoped>\n",
       "    .dataframe tbody tr th:only-of-type {\n",
       "        vertical-align: middle;\n",
       "    }\n",
       "\n",
       "    .dataframe tbody tr th {\n",
       "        vertical-align: top;\n",
       "    }\n",
       "\n",
       "    .dataframe thead th {\n",
       "        text-align: right;\n",
       "    }\n",
       "</style>\n",
       "<table border=\"1\" class=\"dataframe\">\n",
       "  <thead>\n",
       "    <tr style=\"text-align: right;\">\n",
       "      <th></th>\n",
       "      <th>tag</th>\n",
       "      <th>percentage_of_tags</th>\n",
       "    </tr>\n",
       "  </thead>\n",
       "  <tbody>\n",
       "    <tr>\n",
       "      <th>0</th>\n",
       "      <td>machine-learning</td>\n",
       "      <td>0.104248</td>\n",
       "    </tr>\n",
       "    <tr>\n",
       "      <th>1</th>\n",
       "      <td>python</td>\n",
       "      <td>0.070654</td>\n",
       "    </tr>\n",
       "    <tr>\n",
       "      <th>2</th>\n",
       "      <td>deep-learning</td>\n",
       "      <td>0.043457</td>\n",
       "    </tr>\n",
       "    <tr>\n",
       "      <th>3</th>\n",
       "      <td>neural-network</td>\n",
       "      <td>0.040039</td>\n",
       "    </tr>\n",
       "    <tr>\n",
       "      <th>4</th>\n",
       "      <td>keras</td>\n",
       "      <td>0.034473</td>\n",
       "    </tr>\n",
       "    <tr>\n",
       "      <th>5</th>\n",
       "      <td>classification</td>\n",
       "      <td>0.028271</td>\n",
       "    </tr>\n",
       "    <tr>\n",
       "      <th>6</th>\n",
       "      <td>scikit-learn</td>\n",
       "      <td>0.021875</td>\n",
       "    </tr>\n",
       "    <tr>\n",
       "      <th>7</th>\n",
       "      <td>tensorflow</td>\n",
       "      <td>0.020215</td>\n",
       "    </tr>\n",
       "    <tr>\n",
       "      <th>8</th>\n",
       "      <td>nlp</td>\n",
       "      <td>0.019189</td>\n",
       "    </tr>\n",
       "    <tr>\n",
       "      <th>9</th>\n",
       "      <td>cnn</td>\n",
       "      <td>0.018506</td>\n",
       "    </tr>\n",
       "    <tr>\n",
       "      <th>10</th>\n",
       "      <td>time-series</td>\n",
       "      <td>0.016455</td>\n",
       "    </tr>\n",
       "    <tr>\n",
       "      <th>11</th>\n",
       "      <td>pandas</td>\n",
       "      <td>0.015381</td>\n",
       "    </tr>\n",
       "    <tr>\n",
       "      <th>12</th>\n",
       "      <td>lstm</td>\n",
       "      <td>0.014160</td>\n",
       "    </tr>\n",
       "    <tr>\n",
       "      <th>13</th>\n",
       "      <td>regression</td>\n",
       "      <td>0.013184</td>\n",
       "    </tr>\n",
       "    <tr>\n",
       "      <th>14</th>\n",
       "      <td>dataset</td>\n",
       "      <td>0.012207</td>\n",
       "    </tr>\n",
       "    <tr>\n",
       "      <th>15</th>\n",
       "      <td>clustering</td>\n",
       "      <td>0.011182</td>\n",
       "    </tr>\n",
       "    <tr>\n",
       "      <th>16</th>\n",
       "      <td>predictive-modeling</td>\n",
       "      <td>0.010400</td>\n",
       "    </tr>\n",
       "    <tr>\n",
       "      <th>17</th>\n",
       "      <td>r</td>\n",
       "      <td>0.009424</td>\n",
       "    </tr>\n",
       "    <tr>\n",
       "      <th>18</th>\n",
       "      <td>feature-selection</td>\n",
       "      <td>0.008545</td>\n",
       "    </tr>\n",
       "    <tr>\n",
       "      <th>19</th>\n",
       "      <td>data-mining</td>\n",
       "      <td>0.008447</td>\n",
       "    </tr>\n",
       "  </tbody>\n",
       "</table>\n",
       "</div>"
      ],
      "text/plain": [
       "                    tag  percentage_of_tags\n",
       "0      machine-learning            0.104248\n",
       "1                python            0.070654\n",
       "2         deep-learning            0.043457\n",
       "3        neural-network            0.040039\n",
       "4                 keras            0.034473\n",
       "5        classification            0.028271\n",
       "6          scikit-learn            0.021875\n",
       "7            tensorflow            0.020215\n",
       "8                   nlp            0.019189\n",
       "9                   cnn            0.018506\n",
       "10          time-series            0.016455\n",
       "11               pandas            0.015381\n",
       "12                 lstm            0.014160\n",
       "13           regression            0.013184\n",
       "14              dataset            0.012207\n",
       "15           clustering            0.011182\n",
       "16  predictive-modeling            0.010400\n",
       "17                    r            0.009424\n",
       "18    feature-selection            0.008545\n",
       "19          data-mining            0.008447"
      ]
     },
     "execution_count": 129,
     "metadata": {},
     "output_type": "execute_result"
    }
   ],
   "source": [
    "tag_counts = tag_list['tag'].value_counts(normalize = True).to_frame().reset_index().rename(columns = {'index':'tag', 'tag':'percentage_of_tags'})\n",
    "tag_counts.head(20)"
   ]
  },
  {
   "cell_type": "code",
   "execution_count": 100,
   "metadata": {},
   "outputs": [
    {
     "data": {
      "text/html": [
       "<div>\n",
       "<style scoped>\n",
       "    .dataframe tbody tr th:only-of-type {\n",
       "        vertical-align: middle;\n",
       "    }\n",
       "\n",
       "    .dataframe tbody tr th {\n",
       "        vertical-align: top;\n",
       "    }\n",
       "\n",
       "    .dataframe thead th {\n",
       "        text-align: right;\n",
       "    }\n",
       "</style>\n",
       "<table border=\"1\" class=\"dataframe\">\n",
       "  <thead>\n",
       "    <tr style=\"text-align: right;\">\n",
       "      <th></th>\n",
       "      <th>tag</th>\n",
       "      <th>ViewCount</th>\n",
       "    </tr>\n",
       "  </thead>\n",
       "  <tbody>\n",
       "    <tr>\n",
       "      <th>0</th>\n",
       "      <td>python</td>\n",
       "      <td>2072499.0</td>\n",
       "    </tr>\n",
       "    <tr>\n",
       "      <th>1</th>\n",
       "      <td>machine-learning</td>\n",
       "      <td>1341003.0</td>\n",
       "    </tr>\n",
       "    <tr>\n",
       "      <th>2</th>\n",
       "      <td>pandas</td>\n",
       "      <td>968461.0</td>\n",
       "    </tr>\n",
       "    <tr>\n",
       "      <th>3</th>\n",
       "      <td>keras</td>\n",
       "      <td>876767.0</td>\n",
       "    </tr>\n",
       "    <tr>\n",
       "      <th>4</th>\n",
       "      <td>deep-learning</td>\n",
       "      <td>764758.0</td>\n",
       "    </tr>\n",
       "    <tr>\n",
       "      <th>5</th>\n",
       "      <td>neural-network</td>\n",
       "      <td>659452.0</td>\n",
       "    </tr>\n",
       "    <tr>\n",
       "      <th>6</th>\n",
       "      <td>scikit-learn</td>\n",
       "      <td>496244.0</td>\n",
       "    </tr>\n",
       "    <tr>\n",
       "      <th>7</th>\n",
       "      <td>tensorflow</td>\n",
       "      <td>447949.0</td>\n",
       "    </tr>\n",
       "    <tr>\n",
       "      <th>8</th>\n",
       "      <td>classification</td>\n",
       "      <td>378393.0</td>\n",
       "    </tr>\n",
       "    <tr>\n",
       "      <th>9</th>\n",
       "      <td>dataframe</td>\n",
       "      <td>361337.0</td>\n",
       "    </tr>\n",
       "    <tr>\n",
       "      <th>10</th>\n",
       "      <td>cnn</td>\n",
       "      <td>292120.0</td>\n",
       "    </tr>\n",
       "    <tr>\n",
       "      <th>11</th>\n",
       "      <td>nlp</td>\n",
       "      <td>276310.0</td>\n",
       "    </tr>\n",
       "    <tr>\n",
       "      <th>12</th>\n",
       "      <td>lstm</td>\n",
       "      <td>239580.0</td>\n",
       "    </tr>\n",
       "    <tr>\n",
       "      <th>13</th>\n",
       "      <td>time-series</td>\n",
       "      <td>221495.0</td>\n",
       "    </tr>\n",
       "    <tr>\n",
       "      <th>14</th>\n",
       "      <td>numpy</td>\n",
       "      <td>202778.0</td>\n",
       "    </tr>\n",
       "    <tr>\n",
       "      <th>15</th>\n",
       "      <td>regression</td>\n",
       "      <td>162558.0</td>\n",
       "    </tr>\n",
       "    <tr>\n",
       "      <th>16</th>\n",
       "      <td>pytorch</td>\n",
       "      <td>156037.0</td>\n",
       "    </tr>\n",
       "    <tr>\n",
       "      <th>17</th>\n",
       "      <td>csv</td>\n",
       "      <td>150670.0</td>\n",
       "    </tr>\n",
       "    <tr>\n",
       "      <th>18</th>\n",
       "      <td>dataset</td>\n",
       "      <td>138643.0</td>\n",
       "    </tr>\n",
       "    <tr>\n",
       "      <th>19</th>\n",
       "      <td>xgboost</td>\n",
       "      <td>132888.0</td>\n",
       "    </tr>\n",
       "    <tr>\n",
       "      <th>20</th>\n",
       "      <td>seaborn</td>\n",
       "      <td>131544.0</td>\n",
       "    </tr>\n",
       "    <tr>\n",
       "      <th>21</th>\n",
       "      <td>bert</td>\n",
       "      <td>129213.0</td>\n",
       "    </tr>\n",
       "    <tr>\n",
       "      <th>22</th>\n",
       "      <td>data-mining</td>\n",
       "      <td>123399.0</td>\n",
       "    </tr>\n",
       "    <tr>\n",
       "      <th>23</th>\n",
       "      <td>image-classification</td>\n",
       "      <td>119172.0</td>\n",
       "    </tr>\n",
       "    <tr>\n",
       "      <th>24</th>\n",
       "      <td>r</td>\n",
       "      <td>116276.0</td>\n",
       "    </tr>\n",
       "  </tbody>\n",
       "</table>\n",
       "</div>"
      ],
      "text/plain": [
       "                     tag  ViewCount\n",
       "0                 python  2072499.0\n",
       "1       machine-learning  1341003.0\n",
       "2                 pandas   968461.0\n",
       "3                  keras   876767.0\n",
       "4          deep-learning   764758.0\n",
       "5         neural-network   659452.0\n",
       "6           scikit-learn   496244.0\n",
       "7             tensorflow   447949.0\n",
       "8         classification   378393.0\n",
       "9              dataframe   361337.0\n",
       "10                   cnn   292120.0\n",
       "11                   nlp   276310.0\n",
       "12                  lstm   239580.0\n",
       "13           time-series   221495.0\n",
       "14                 numpy   202778.0\n",
       "15            regression   162558.0\n",
       "16               pytorch   156037.0\n",
       "17                   csv   150670.0\n",
       "18               dataset   138643.0\n",
       "19               xgboost   132888.0\n",
       "20               seaborn   131544.0\n",
       "21                  bert   129213.0\n",
       "22           data-mining   123399.0\n",
       "23  image-classification   119172.0\n",
       "24                     r   116276.0"
      ]
     },
     "execution_count": 100,
     "metadata": {},
     "output_type": "execute_result"
    }
   ],
   "source": [
    "tag_views = merged.pivot_table(values = 'ViewCount', index = 'tag', \n",
    "                                aggfunc = 'sum').sort_values('ViewCount', ascending = False).reset_index()\n",
    "tag_views.head(25)"
   ]
  },
  {
   "cell_type": "code",
   "execution_count": 65,
   "metadata": {},
   "outputs": [],
   "source": [
    "import matplotlib.pyplot as plt\n",
    "%matplotlib inline"
   ]
  },
  {
   "cell_type": "code",
   "execution_count": 131,
   "metadata": {},
   "outputs": [
    {
     "data": {
      "image/png": "[encoded data removed]",
      "text/plain": [
       "<Figure size 1440x576 with 2 Axes>"
      ]
     },
     "metadata": {
      "needs_background": "light"
     },
     "output_type": "display_data"
    }
   ],
   "source": [
    "fig, axs = plt.subplots(1,2,figsize = (20,8))\n",
    "tag_views.head(10).plot(x = 'tag', y = 'ViewCount', kind = 'barh', ax=axs[0])\n",
    "#plt.xticks(rotation = 45)\n",
    "axs[0].invert_yaxis()\n",
    "axs[0].ticklabel_format(axis = 'x', style = 'plain')\n",
    "\n",
    "tag_counts.head(10).plot(x = 'tag', kind = 'barh', ax = axs[1])\n",
    "axs[1].invert_yaxis()\n",
    "axs[1].ticklabel_format(axis = 'x', style = 'plain')\n",
    "\n",
    "\n",
    "plt.show()"
   ]
  },
  {
   "cell_type": "markdown",
   "metadata": {},
   "source": [
    "Comparing the charts above, we see the top ten subjects by both view counts and percentage of tags are quite similar; 8 or 10 are in both: *python, machine learning, keras, deep learning, neural network, scikit-learn, tensorflow, and classification*. In addition, 'pandas' is quite high on the view counts list though not in percent of tags, so should also be considered. Rounding out the top ten are dataframe in view count and rip / cnn in percent of tags.\n",
    "\n",
    "COULD DO - Further look into relationships between these tags to make recommendations"
   ]
  },
  {
   "cell_type": "markdown",
   "metadata": {},
   "source": [
    "# Tracking Deep Learning"
   ]
  },
  {
   "cell_type": "markdown",
   "metadata": {},
   "source": [
    "Let's look at the growth of the \"deep learning\" topic. We identified posts that were tagged with 'deep_learning' using the query:\n",
    "\n",
    "SELECT Id, CreationDate, Tags\n",
    "  FROM posts\n",
    "  WHERE PostTypeId = 1 AND Tags LIKE '%deep-learning%'\n",
    "  ORDER BY CreationDate"
   ]
  },
  {
   "cell_type": "code",
   "execution_count": 149,
   "metadata": {},
   "outputs": [
    {
     "name": "stdout",
     "output_type": "stream",
     "text": [
      "Number of rows: 3690\n"
     ]
    },
    {
     "data": {
      "text/html": [
       "<div>\n",
       "<style scoped>\n",
       "    .dataframe tbody tr th:only-of-type {\n",
       "        vertical-align: middle;\n",
       "    }\n",
       "\n",
       "    .dataframe tbody tr th {\n",
       "        vertical-align: top;\n",
       "    }\n",
       "\n",
       "    .dataframe thead th {\n",
       "        text-align: right;\n",
       "    }\n",
       "</style>\n",
       "<table border=\"1\" class=\"dataframe\">\n",
       "  <thead>\n",
       "    <tr style=\"text-align: right;\">\n",
       "      <th></th>\n",
       "      <th>Id</th>\n",
       "      <th>CreationDate</th>\n",
       "      <th>Tags</th>\n",
       "    </tr>\n",
       "  </thead>\n",
       "  <tbody>\n",
       "    <tr>\n",
       "      <th>0</th>\n",
       "      <td>410</td>\n",
       "      <td>2014-06-16 18:08:38</td>\n",
       "      <td>&lt;machine-learning&gt;&lt;neural-network&gt;&lt;deep-learni...</td>\n",
       "    </tr>\n",
       "    <tr>\n",
       "      <th>1</th>\n",
       "      <td>731</td>\n",
       "      <td>2014-07-13 09:04:39</td>\n",
       "      <td>&lt;neural-network&gt;&lt;deep-learning&gt;</td>\n",
       "    </tr>\n",
       "    <tr>\n",
       "      <th>2</th>\n",
       "      <td>1253</td>\n",
       "      <td>2014-10-11 10:24:01</td>\n",
       "      <td>&lt;machine-learning&gt;&lt;data-mining&gt;&lt;neural-network...</td>\n",
       "    </tr>\n",
       "    <tr>\n",
       "      <th>3</th>\n",
       "      <td>2504</td>\n",
       "      <td>2014-11-20 06:49:00</td>\n",
       "      <td>&lt;machine-learning&gt;&lt;classification&gt;&lt;deep-learning&gt;</td>\n",
       "    </tr>\n",
       "    <tr>\n",
       "      <th>4</th>\n",
       "      <td>2651</td>\n",
       "      <td>2014-12-08 22:37:32</td>\n",
       "      <td>&lt;machine-learning&gt;&lt;deep-learning&gt;</td>\n",
       "    </tr>\n",
       "  </tbody>\n",
       "</table>\n",
       "</div>"
      ],
      "text/plain": [
       "     Id        CreationDate                                               Tags\n",
       "0   410 2014-06-16 18:08:38  <machine-learning><neural-network><deep-learni...\n",
       "1   731 2014-07-13 09:04:39                    <neural-network><deep-learning>\n",
       "2  1253 2014-10-11 10:24:01  <machine-learning><data-mining><neural-network...\n",
       "3  2504 2014-11-20 06:49:00  <machine-learning><classification><deep-learning>\n",
       "4  2651 2014-12-08 22:37:32                  <machine-learning><deep-learning>"
      ]
     },
     "execution_count": 149,
     "metadata": {},
     "output_type": "execute_result"
    }
   ],
   "source": [
    "dlq = pd.read_csv('deep_learning_questions.csv', parse_dates = ['CreationDate'])\n",
    "print('Number of rows:', dlq.shape[0])\n",
    "dlq.head()"
   ]
  },
  {
   "cell_type": "code",
   "execution_count": 152,
   "metadata": {},
   "outputs": [
    {
     "data": {
      "text/html": [
       "<div>\n",
       "<style scoped>\n",
       "    .dataframe tbody tr th:only-of-type {\n",
       "        vertical-align: middle;\n",
       "    }\n",
       "\n",
       "    .dataframe tbody tr th {\n",
       "        vertical-align: top;\n",
       "    }\n",
       "\n",
       "    .dataframe thead th {\n",
       "        text-align: right;\n",
       "    }\n",
       "</style>\n",
       "<table border=\"1\" class=\"dataframe\">\n",
       "  <thead>\n",
       "    <tr style=\"text-align: right;\">\n",
       "      <th></th>\n",
       "      <th>Id</th>\n",
       "      <th>CreationDate</th>\n",
       "      <th>Tags</th>\n",
       "      <th>year</th>\n",
       "      <th>month</th>\n",
       "    </tr>\n",
       "  </thead>\n",
       "  <tbody>\n",
       "    <tr>\n",
       "      <th>0</th>\n",
       "      <td>410</td>\n",
       "      <td>2014-06-16 18:08:38</td>\n",
       "      <td>&lt;machine-learning&gt;&lt;neural-network&gt;&lt;deep-learni...</td>\n",
       "      <td>2014</td>\n",
       "      <td>6</td>\n",
       "    </tr>\n",
       "    <tr>\n",
       "      <th>1</th>\n",
       "      <td>731</td>\n",
       "      <td>2014-07-13 09:04:39</td>\n",
       "      <td>&lt;neural-network&gt;&lt;deep-learning&gt;</td>\n",
       "      <td>2014</td>\n",
       "      <td>7</td>\n",
       "    </tr>\n",
       "    <tr>\n",
       "      <th>2</th>\n",
       "      <td>1253</td>\n",
       "      <td>2014-10-11 10:24:01</td>\n",
       "      <td>&lt;machine-learning&gt;&lt;data-mining&gt;&lt;neural-network...</td>\n",
       "      <td>2014</td>\n",
       "      <td>10</td>\n",
       "    </tr>\n",
       "    <tr>\n",
       "      <th>3</th>\n",
       "      <td>2504</td>\n",
       "      <td>2014-11-20 06:49:00</td>\n",
       "      <td>&lt;machine-learning&gt;&lt;classification&gt;&lt;deep-learning&gt;</td>\n",
       "      <td>2014</td>\n",
       "      <td>11</td>\n",
       "    </tr>\n",
       "    <tr>\n",
       "      <th>4</th>\n",
       "      <td>2651</td>\n",
       "      <td>2014-12-08 22:37:32</td>\n",
       "      <td>&lt;machine-learning&gt;&lt;deep-learning&gt;</td>\n",
       "      <td>2014</td>\n",
       "      <td>12</td>\n",
       "    </tr>\n",
       "  </tbody>\n",
       "</table>\n",
       "</div>"
      ],
      "text/plain": [
       "     Id        CreationDate  \\\n",
       "0   410 2014-06-16 18:08:38   \n",
       "1   731 2014-07-13 09:04:39   \n",
       "2  1253 2014-10-11 10:24:01   \n",
       "3  2504 2014-11-20 06:49:00   \n",
       "4  2651 2014-12-08 22:37:32   \n",
       "\n",
       "                                                Tags  year  month  \n",
       "0  <machine-learning><neural-network><deep-learni...  2014      6  \n",
       "1                    <neural-network><deep-learning>  2014      7  \n",
       "2  <machine-learning><data-mining><neural-network...  2014     10  \n",
       "3  <machine-learning><classification><deep-learning>  2014     11  \n",
       "4                  <machine-learning><deep-learning>  2014     12  "
      ]
     },
     "execution_count": 152,
     "metadata": {},
     "output_type": "execute_result"
    }
   ],
   "source": [
    "import datetime as dt\n",
    "#dlq['CreationDate'].str.extract('([0-9]{4}-[0-9]{2})').dt.strptime\n",
    "\n",
    "dlq['year'] = dlq['CreationDate'].dt.year\n",
    "dlq['month'] = dlq['CreationDate'].dt.month\n",
    "\n",
    "dlq.head()"
   ]
  },
  {
   "cell_type": "code",
   "execution_count": 159,
   "metadata": {},
   "outputs": [
    {
     "data": {
      "text/plain": [
       "<AxesSubplot:>"
      ]
     },
     "execution_count": 159,
     "metadata": {},
     "output_type": "execute_result"
    },
    {
     "data": {
      "image/png": "[encoded data removed]",
      "text/plain": [
       "<Figure size 432x288 with 1 Axes>"
      ]
     },
     "metadata": {
      "needs_background": "light"
     },
     "output_type": "display_data"
    }
   ],
   "source": [
    "dlq['year'].value_counts().sort_index().plot(kind = 'bar')"
   ]
  },
  {
   "cell_type": "markdown",
   "metadata": {},
   "source": [
    "From the above we can see it's become very popular since 2018. We should exclude the 2021 data since it's an incomplete year:"
   ]
  },
  {
   "cell_type": "code",
   "execution_count": 164,
   "metadata": {},
   "outputs": [
    {
     "data": {
      "text/plain": [
       "<AxesSubplot:>"
      ]
     },
     "execution_count": 164,
     "metadata": {},
     "output_type": "execute_result"
    },
    {
     "data": {
      "image/png": "[encoded data removed]",
      "text/plain": [
       "<Figure size 432x288 with 1 Axes>"
      ]
     },
     "metadata": {
      "needs_background": "light"
     },
     "output_type": "display_data"
    }
   ],
   "source": [
    "dlq2 = dlq[dlq['year'] != 2021].copy()\n",
    "\n",
    "dlq2['year'].value_counts().sort_index().plot(kind = 'bar')"
   ]
  },
  {
   "cell_type": "markdown",
   "metadata": {},
   "source": [
    "We should also compare this to the number of posts overall in each time period, so let's read in a database that contains that (really could have used this one from the start, oops):"
   ]
  },
  {
   "cell_type": "code",
   "execution_count": 165,
   "metadata": {},
   "outputs": [
    {
     "data": {
      "text/html": [
       "<div>\n",
       "<style scoped>\n",
       "    .dataframe tbody tr th:only-of-type {\n",
       "        vertical-align: middle;\n",
       "    }\n",
       "\n",
       "    .dataframe tbody tr th {\n",
       "        vertical-align: top;\n",
       "    }\n",
       "\n",
       "    .dataframe thead th {\n",
       "        text-align: right;\n",
       "    }\n",
       "</style>\n",
       "<table border=\"1\" class=\"dataframe\">\n",
       "  <thead>\n",
       "    <tr style=\"text-align: right;\">\n",
       "      <th></th>\n",
       "      <th>Id</th>\n",
       "      <th>CreationDate</th>\n",
       "      <th>Tags</th>\n",
       "    </tr>\n",
       "  </thead>\n",
       "  <tbody>\n",
       "    <tr>\n",
       "      <th>0</th>\n",
       "      <td>5</td>\n",
       "      <td>2014-05-13 23:58:30</td>\n",
       "      <td>&lt;machine-learning&gt;</td>\n",
       "    </tr>\n",
       "    <tr>\n",
       "      <th>1</th>\n",
       "      <td>7</td>\n",
       "      <td>2014-05-14 00:11:06</td>\n",
       "      <td>&lt;education&gt;&lt;open-source&gt;</td>\n",
       "    </tr>\n",
       "    <tr>\n",
       "      <th>2</th>\n",
       "      <td>14</td>\n",
       "      <td>2014-05-14 01:25:59</td>\n",
       "      <td>&lt;data-mining&gt;&lt;definitions&gt;</td>\n",
       "    </tr>\n",
       "    <tr>\n",
       "      <th>3</th>\n",
       "      <td>15</td>\n",
       "      <td>2014-05-14 01:41:23</td>\n",
       "      <td>&lt;databases&gt;</td>\n",
       "    </tr>\n",
       "    <tr>\n",
       "      <th>4</th>\n",
       "      <td>16</td>\n",
       "      <td>2014-05-14 01:57:56</td>\n",
       "      <td>&lt;machine-learning&gt;&lt;bigdata&gt;&lt;libsvm&gt;</td>\n",
       "    </tr>\n",
       "  </tbody>\n",
       "</table>\n",
       "</div>"
      ],
      "text/plain": [
       "   Id        CreationDate                                 Tags\n",
       "0   5 2014-05-13 23:58:30                   <machine-learning>\n",
       "1   7 2014-05-14 00:11:06             <education><open-source>\n",
       "2  14 2014-05-14 01:25:59           <data-mining><definitions>\n",
       "3  15 2014-05-14 01:41:23                          <databases>\n",
       "4  16 2014-05-14 01:57:56  <machine-learning><bigdata><libsvm>"
      ]
     },
     "execution_count": 165,
     "metadata": {},
     "output_type": "execute_result"
    }
   ],
   "source": [
    "allq = pd.read_csv('all_questions.csv', parse_dates = ['CreationDate'])\n",
    "allq.head()"
   ]
  },
  {
   "cell_type": "code",
   "execution_count": 183,
   "metadata": {},
   "outputs": [
    {
     "data": {
      "text/plain": [
       "(0.0, 7000.0)"
      ]
     },
     "execution_count": 183,
     "metadata": {},
     "output_type": "execute_result"
    },
    {
     "data": {
      "image/png": "[encoded data removed]",
      "text/plain": [
       "<Figure size 864x432 with 2 Axes>"
      ]
     },
     "metadata": {
      "needs_background": "light"
     },
     "output_type": "display_data"
    }
   ],
   "source": [
    "\n",
    "allq['year'] = allq['CreationDate'].dt.year\n",
    "allq['month'] = allq['CreationDate'].dt.month\n",
    "\n",
    "allq2 = allq[allq['year'] != 2021].copy()\n",
    "\n",
    "fig, axs = plt.subplots(1,2, figsize = (12,6))\n",
    "allq2['year'].value_counts().sort_index().plot(kind = 'bar', ax = axs[0])\n",
    "axs[0].set_title('All Posts')\n",
    "dlq2['year'].value_counts().sort_index().plot(kind = 'bar', ax = axs[1])\n",
    "axs[1].set_title('Deep Learning Posts')\n",
    "axs[1].set_ylim((0,7000))"
   ]
  },
  {
   "cell_type": "markdown",
   "metadata": {},
   "source": [
    "The shape of the two graphs is quite similar; the topic was proportionally more popular in 2018.\n",
    "\n",
    "We could find deep learning as % of all posts as well and graph that:"
   ]
  },
  {
   "cell_type": "code",
   "execution_count": 193,
   "metadata": {},
   "outputs": [
    {
     "data": {
      "image/png": "[encoded data removed]",
      "text/plain": [
       "<Figure size 432x288 with 1 Axes>"
      ]
     },
     "metadata": {
      "needs_background": "light"
     },
     "output_type": "display_data"
    }
   ],
   "source": [
    "dlq_counts = dlq2['year'].value_counts().sort_index().to_frame()\n",
    "allq_counts = allq2['year'].value_counts().sort_index().to_frame()\n",
    "\n",
    "dlq_counts.head()\n",
    "\n",
    "dl_vs_all = pd.merge(left = dlq_counts, right = allq_counts, how = 'left', \n",
    "         left_index = True, right_index = True).rename(columns = {'year_x': 'dlq', 'year_y': 'allq'})\n",
    "\n",
    "dl_vs_all['percent_dl'] = round(dl_vs_all['dlq'] / dl_vs_all['allq'] * 100, 2)\n",
    "fig, ax = plt.subplots()\n",
    "dl_vs_all[['percent_dl']].plot.line(ylim=(0,50), ax=ax, legend = False)\n",
    "ax.set_xlabel('Year')\n",
    "ax.set_title('Percent of All Posts Tagged with \"Deep Learning\"')\n",
    "plt.show()"
   ]
  },
  {
   "cell_type": "markdown",
   "metadata": {},
   "source": [
    "I would probably want to compare this with some of the other key words (for example, find this percentage & make a line chart for all of the top ten tags). However, it seems that it has been a fairly popular tag for a few years, and interest remains strong.\n",
    "\n",
    "Looking at the solutions, here is how I could improve this:\n",
    "- For comparing pairs of tags, I actually can make a matrix, by creating a dataframe using tags as indices, and then using a heatmap to show associations\n",
    "- For classifying the deep learning posts, I could use a broader range of tags than just 'deep-learning', but then follow much of the same procedure\n",
    "- They follow progress by quarters rather than by years, and turn the datetimes into strings: '18Q3'. These still plot in order.\n",
    "\n",
    "Solutions: https://github.com/dataquestio/solutions/blob/master/Mission469Solutions.ipynb\n",
    "\n",
    "Also this guy has some nice graphs! You can review how to use seaborn to make your graphs more aesthetic. (Or maybe redo the data visualization course?)\n",
    "https://nbviewer.jupyter.org/urls/community.dataquest.io/uploads/short-url/CzhCw0bS0YjIplx5ZsJyzSeyhY.ipynb"
   ]
  },
  {
   "cell_type": "code",
   "execution_count": null,
   "metadata": {},
   "outputs": [],
   "source": []
  }
 ],
 "metadata": {
  "kernelspec": {
   "display_name": "Python 3",
   "language": "python",
   "name": "python3"
  },
  "language_info": {
   "codemirror_mode": {
    "name": "ipython",
    "version": 3
   },
   "file_extension": ".py",
   "mimetype": "text/x-python",
   "name": "python",
   "nbconvert_exporter": "python",
   "pygments_lexer": "ipython3",
   "version": "3.8.5"
  }
 },
 "nbformat": 4,
 "nbformat_minor": 4
}
